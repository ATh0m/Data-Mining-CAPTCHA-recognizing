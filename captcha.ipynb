{
 "cells": [
  {
   "cell_type": "code",
   "execution_count": 2,
   "metadata": {},
   "outputs": [
    {
     "name": "stdout",
     "output_type": "stream",
     "text": [
      "Populating the interactive namespace from numpy and matplotlib\n"
     ]
    }
   ],
   "source": [
    "%pylab inline\n",
    "\n",
    "import os\n",
    "from src.CAPTCHA_to_signs import DFS"
   ]
  },
  {
   "cell_type": "markdown",
   "metadata": {},
   "source": [
    "## Preprocess\n",
    "\n",
    "W tym miejscu chcemy podzielić surowe CAPTCHA ze znanymi etykietami na poszczególne znaki z również znanymi etykietami. Powstały zbiór wykorzystamy do nauki modelu"
   ]
  },
  {
   "cell_type": "code",
   "execution_count": 3,
   "metadata": {
    "collapsed": true
   },
   "outputs": [],
   "source": [
    "root_path = os.getcwd()\n",
    "\n",
    "img_dir_path = os.path.join(root_path, 'data', 'raw')\n",
    "invalid_img_dir_path = os.path.join(root_path, 'data', 'invalid')\n",
    "train_img_dir_path = os.path.join(root_path, 'data', 'train')\n",
    "test_img_dir_path = os.path.join(root_path, 'data', 'test') \n",
    "\n",
    "signs_output_dir_path = os.path.join(root_path, 'data', 'signs')"
   ]
  },
  {
   "cell_type": "markdown",
   "metadata": {},
   "source": [
    "Obrazki, które można dobrze podzielić przenosimy do folderu **train**, a pozostałe do **invalid**"
   ]
  },
  {
   "cell_type": "code",
   "execution_count": 6,
   "metadata": {
    "collapsed": true
   },
   "outputs": [],
   "source": [
    "for img_filename in os.listdir(img_dir_path):\n",
    "    img_path = os.path.join(img_dir_path, img_filename)\n",
    "    \n",
    "    label = img_filename.split('.')[0].upper()\n",
    "    signs = DFS(img_path).dfs_all()\n",
    "    \n",
    "    # Przenieś niepoprawne obrazki do folderu invalid\n",
    "    if len(label) != len(signs):\n",
    "        invalid_img_path = os.path.join(invalid_img_dir_path, img_filename)\n",
    "        os.rename(img_path, invalid_img_path)\n",
    "        continue\n",
    "        \n",
    "    # Poprawne przenieś do train\n",
    "    train_img_path = os.path.join(train_img_dir_path, img_filename)\n",
    "    os.rename(img_path, train_img_path)"
   ]
  },
  {
   "cell_type": "markdown",
   "metadata": {},
   "source": [
    "Część obrazków z **train** przenosimy do **test**"
   ]
  },
  {
   "cell_type": "code",
   "execution_count": 13,
   "metadata": {
    "collapsed": true
   },
   "outputs": [],
   "source": [
    "import random\n",
    "\n",
    "# Przenieś część do test\n",
    "for img_filename in random.sample(os.listdir(train_img_dir_path), 1500):\n",
    "    img_path = os.path.join(train_img_dir_path, img_filename)\n",
    "    \n",
    "    test_img_path = os.path.join(test_img_dir_path, img_filename)\n",
    "    os.rename(img_path, test_img_path)    "
   ]
  },
  {
   "cell_type": "markdown",
   "metadata": {},
   "source": [
    "Tworzymy foldery dla wszystkich z mozliwych znaków"
   ]
  },
  {
   "cell_type": "code",
   "execution_count": 14,
   "metadata": {
    "collapsed": true
   },
   "outputs": [],
   "source": [
    "for sign in '23456789ABCDEFGHJKLMNPQRSTUVWXYZ':\n",
    "    sign_dir_path = os.path.join(signs_output_dir_path, sign)\n",
    "    \n",
    "    if not os.path.exists(sign_dir_path):\n",
    "        os.makedirs(sign_dir_path)"
   ]
  },
  {
   "cell_type": "markdown",
   "metadata": {},
   "source": [
    "Z obrazków ze zbioru trenującego wydzielamy znaki i zapisujemy je w odpowiednim katalogu"
   ]
  },
  {
   "cell_type": "code",
   "execution_count": 16,
   "metadata": {
    "collapsed": true
   },
   "outputs": [],
   "source": [
    "from collections import Counter\n",
    "\n",
    "counter = Counter()\n",
    "\n",
    "for img_filename in os.listdir(train_img_dir_path):\n",
    "    img_path = os.path.join(train_img_dir_path, img_filename)\n",
    "    \n",
    "    label = img_filename.split('.')[0].upper()\n",
    "    signs = DFS(img_path).dfs_all()\n",
    "        \n",
    "    for sign, target in zip(signs, label):\n",
    "        counter[target] += 1\n",
    "        \n",
    "        sign_path = os.path.join(signs_output_dir_path, target, str(counter[target]))\n",
    "        sign.save(sign_path)"
   ]
  },
  {
   "cell_type": "markdown",
   "metadata": {},
   "source": [
    "## Model\n",
    "\n",
    "Implementacja sieci neuronowejo podstawie dla zbioru MNIST"
   ]
  },
  {
   "cell_type": "code",
   "execution_count": 1,
   "metadata": {},
   "outputs": [
    {
     "ename": "ModuleNotFoundError",
     "evalue": "No module named 'keras'",
     "output_type": "error",
     "traceback": [
      "\u001b[0;31m---------------------------------------------------------------------------\u001b[0m",
      "\u001b[0;31mModuleNotFoundError\u001b[0m                       Traceback (most recent call last)",
      "\u001b[0;32m<ipython-input-1-0437d82dee34>\u001b[0m in \u001b[0;36m<module>\u001b[0;34m()\u001b[0m\n\u001b[0;32m----> 1\u001b[0;31m \u001b[0;32mimport\u001b[0m \u001b[0mkeras\u001b[0m\u001b[0;34m\u001b[0m\u001b[0m\n\u001b[0m\u001b[1;32m      2\u001b[0m \u001b[0;34m\u001b[0m\u001b[0m\n\u001b[1;32m      3\u001b[0m \u001b[0;32mfrom\u001b[0m \u001b[0mkeras\u001b[0m\u001b[0;34m.\u001b[0m\u001b[0mpreprocessing\u001b[0m \u001b[0;32mimport\u001b[0m \u001b[0mimage\u001b[0m\u001b[0;34m\u001b[0m\u001b[0m\n\u001b[1;32m      4\u001b[0m \u001b[0;32mfrom\u001b[0m \u001b[0mkeras\u001b[0m\u001b[0;34m.\u001b[0m\u001b[0mmodels\u001b[0m \u001b[0;32mimport\u001b[0m \u001b[0mSequential\u001b[0m\u001b[0;34m\u001b[0m\u001b[0m\n\u001b[1;32m      5\u001b[0m \u001b[0;32mfrom\u001b[0m \u001b[0mkeras\u001b[0m\u001b[0;34m.\u001b[0m\u001b[0mlayers\u001b[0m \u001b[0;32mimport\u001b[0m \u001b[0mDense\u001b[0m\u001b[0;34m,\u001b[0m \u001b[0mDropout\u001b[0m\u001b[0;34m,\u001b[0m \u001b[0mFlatten\u001b[0m\u001b[0;34m\u001b[0m\u001b[0m\n",
      "\u001b[0;31mModuleNotFoundError\u001b[0m: No module named 'keras'"
     ]
    }
   ],
   "source": [
    "import keras\n",
    "\n",
    "from keras.preprocessing import image\n",
    "from keras.models import Sequential\n",
    "from keras.layers import Dense, Dropout, Flatten\n",
    "from keras.layers import Conv2D, MaxPooling2D\n",
    "from keras import backend as K\n",
    "\n",
    "from sklearn.model_selection import train_test_split\n",
    "from sklearn.preprocessing import LabelBinarizer"
   ]
  },
  {
   "cell_type": "code",
   "execution_count": 8,
   "metadata": {
    "collapsed": true
   },
   "outputs": [],
   "source": [
    "signs_dir_path = os.path.join(root_path, 'data', 'signs')"
   ]
  },
  {
   "cell_type": "code",
   "execution_count": 18,
   "metadata": {
    "collapsed": true
   },
   "outputs": [],
   "source": [
    "X, y = [], []\n",
    "\n",
    "for sign in '23456789ABCDEFGHJKLMNPQRSTUVWXYZ':\n",
    "    sign_dir_path = os.path.join(signs_dir_path, sign)\n",
    "    \n",
    "    for img_filename in os.listdir(sign_dir_path):\n",
    "        img_path = os.path.join(sign_dir_path, img_filename)\n",
    "        \n",
    "        img = image.load_img(img_path, grayscale=True)\n",
    "        img = image.img_to_array(img)\n",
    "        \n",
    "        X.append(img)\n",
    "        y.append(sign)\n",
    "        \n",
    "X, y = np.array(X), np.array(y)"
   ]
  },
  {
   "cell_type": "code",
   "execution_count": 26,
   "metadata": {
    "collapsed": true
   },
   "outputs": [],
   "source": [
    "X_train, X_test, y_train, y_test = train_test_split(X, y, test_size=0.20, random_state=42)"
   ]
  },
  {
   "cell_type": "code",
   "execution_count": 27,
   "metadata": {
    "collapsed": true
   },
   "outputs": [],
   "source": [
    "batch_size = 128\n",
    "num_classes = len('23456789ABCDEFGHJKLMNPQRSTUVWXYZ')\n",
    "epochs = 15"
   ]
  },
  {
   "cell_type": "code",
   "execution_count": 36,
   "metadata": {
    "collapsed": true
   },
   "outputs": [],
   "source": [
    "img_rows, img_cols = 16, 16\n",
    "input_shape = (img_rows, img_cols, 1)\n",
    "\n",
    "X_train = X_train.astype('float32')\n",
    "X_test = X_test.astype('float32')\n",
    "\n",
    "X_train /= 255.\n",
    "X_test /= 255."
   ]
  },
  {
   "cell_type": "code",
   "execution_count": 30,
   "metadata": {},
   "outputs": [
    {
     "name": "stdout",
     "output_type": "stream",
     "text": [
      "('X_train shape:', (26729, 16, 16, 1))\n",
      "(26729, 'train samples')\n",
      "(6683, 'test samples')\n"
     ]
    }
   ],
   "source": [
    "print('X_train shape:', X_train.shape)\n",
    "print(X_train.shape[0], 'train samples')\n",
    "print(X_test.shape[0], 'test samples')"
   ]
  },
  {
   "cell_type": "code",
   "execution_count": 33,
   "metadata": {
    "collapsed": true
   },
   "outputs": [],
   "source": [
    "encoder = LabelBinarizer()\n",
    "y_train = encoder.fit_transform(y_train)\n",
    "y_test = encoder.fit_transform(y_test)"
   ]
  },
  {
   "cell_type": "code",
   "execution_count": 37,
   "metadata": {
    "collapsed": true
   },
   "outputs": [],
   "source": [
    "model = Sequential()\n",
    "model.add(Conv2D(32, kernel_size=(3, 3),\n",
    "                 activation='relu',\n",
    "                 input_shape=input_shape))\n",
    "model.add(Conv2D(64, (3, 3), activation='relu'))\n",
    "model.add(MaxPooling2D(pool_size=(2, 2)))\n",
    "model.add(Dropout(0.25))\n",
    "model.add(Flatten())\n",
    "model.add(Dense(128, activation='relu'))\n",
    "model.add(Dropout(0.5))\n",
    "model.add(Dense(num_classes, activation='softmax'))"
   ]
  },
  {
   "cell_type": "code",
   "execution_count": 38,
   "metadata": {
    "collapsed": true
   },
   "outputs": [],
   "source": [
    "model.compile(loss=keras.losses.categorical_crossentropy,\n",
    "              optimizer=keras.optimizers.Adadelta(),\n",
    "              metrics=['accuracy'])"
   ]
  },
  {
   "cell_type": "code",
   "execution_count": 39,
   "metadata": {},
   "outputs": [
    {
     "name": "stdout",
     "output_type": "stream",
     "text": [
      "Train on 26729 samples, validate on 6683 samples\n",
      "Epoch 1/15\n",
      "26729/26729 [==============================] - 6s 233us/step - loss: 14.8476 - acc: 0.0699 - val_loss: 12.2347 - val_acc: 0.2256\n",
      "Epoch 2/15\n",
      "26729/26729 [==============================] - 6s 222us/step - loss: 4.1426 - acc: 0.4319 - val_loss: 0.1386 - val_acc: 0.9740\n",
      "Epoch 3/15\n",
      "26729/26729 [==============================] - 6s 222us/step - loss: 0.4845 - acc: 0.8498 - val_loss: 0.0060 - val_acc: 0.9991\n",
      "Epoch 4/15\n",
      "26729/26729 [==============================] - 6s 226us/step - loss: 0.2030 - acc: 0.9348 - val_loss: 7.9704e-04 - val_acc: 0.9997\n",
      "Epoch 5/15\n",
      "26729/26729 [==============================] - 6s 223us/step - loss: 0.1177 - acc: 0.9608 - val_loss: 9.5842e-05 - val_acc: 1.0000\n",
      "Epoch 6/15\n",
      "26729/26729 [==============================] - 6s 222us/step - loss: 0.0834 - acc: 0.9729 - val_loss: 3.2829e-05 - val_acc: 1.0000\n",
      "Epoch 7/15\n",
      "26729/26729 [==============================] - 6s 227us/step - loss: 0.0661 - acc: 0.9779 - val_loss: 1.2077e-05 - val_acc: 1.0000\n",
      "Epoch 8/15\n",
      "26729/26729 [==============================] - 6s 224us/step - loss: 0.0537 - acc: 0.9823 - val_loss: 4.4304e-06 - val_acc: 1.0000\n",
      "Epoch 9/15\n",
      "26729/26729 [==============================] - 6s 229us/step - loss: 0.0380 - acc: 0.9880 - val_loss: 5.7470e-06 - val_acc: 1.0000\n",
      "Epoch 10/15\n",
      "26729/26729 [==============================] - 6s 226us/step - loss: 0.0351 - acc: 0.9893 - val_loss: 2.3693e-06 - val_acc: 1.0000\n",
      "Epoch 11/15\n",
      "26729/26729 [==============================] - 6s 226us/step - loss: 0.0286 - acc: 0.9910 - val_loss: 1.5329e-06 - val_acc: 1.0000\n",
      "Epoch 12/15\n",
      "26729/26729 [==============================] - 6s 227us/step - loss: 0.0246 - acc: 0.9927 - val_loss: 3.5797e-07 - val_acc: 1.0000\n",
      "Epoch 13/15\n",
      "26729/26729 [==============================] - 6s 229us/step - loss: 0.0189 - acc: 0.9939 - val_loss: 2.2675e-07 - val_acc: 1.0000\n",
      "Epoch 14/15\n",
      "26729/26729 [==============================] - 6s 228us/step - loss: 0.0224 - acc: 0.9930 - val_loss: 2.6525e-07 - val_acc: 1.0000\n",
      "Epoch 15/15\n",
      "26729/26729 [==============================] - 6s 228us/step - loss: 0.0176 - acc: 0.9943 - val_loss: 1.6635e-07 - val_acc: 1.0000\n"
     ]
    },
    {
     "data": {
      "text/plain": [
       "<keras.callbacks.History at 0x7f762df42f90>"
      ]
     },
     "execution_count": 39,
     "metadata": {},
     "output_type": "execute_result"
    }
   ],
   "source": [
    "model.fit(X_train, y_train,\n",
    "          batch_size=batch_size,\n",
    "          epochs=epochs,\n",
    "          verbose=1,\n",
    "          validation_data=(X_test, y_test))"
   ]
  },
  {
   "cell_type": "code",
   "execution_count": 41,
   "metadata": {},
   "outputs": [
    {
     "name": "stdout",
     "output_type": "stream",
     "text": [
      "('Test loss:', 1.6634578938223013e-07)\n",
      "('Test accuracy:', 1.0)\n"
     ]
    }
   ],
   "source": [
    "score = model.evaluate(X_test, y_test, verbose=0)\n",
    "print('Test loss:', score[0])\n",
    "print('Test accuracy:', score[1])"
   ]
  },
  {
   "cell_type": "code",
   "execution_count": 73,
   "metadata": {
    "collapsed": true
   },
   "outputs": [],
   "source": [
    "models_dir_path = os.path.join(root_path, 'model')\n",
    "model_path = os.path.join(models_dir_path, 'model.h5')\n",
    "\n",
    "# model.save(model_path)"
   ]
  },
  {
   "cell_type": "markdown",
   "metadata": {},
   "source": [
    "## Predict"
   ]
  },
  {
   "cell_type": "code",
   "execution_count": 69,
   "metadata": {
    "collapsed": true
   },
   "outputs": [],
   "source": [
    "correct = 0\n",
    "\n",
    "for img_filename in os.listdir(img_dir_path):\n",
    "    img_path = os.path.join(img_dir_path, img_filename)\n",
    "    \n",
    "    label = img_filename.split('.')[0].upper()\n",
    "    signs = DFS(img_path).dfs_all()\n",
    "    \n",
    "    signs = np.array([s.bitmap * 255 for s in signs]).reshape(-1, 16, 16, 1)\n",
    "    predict = model.predict_classes(signs)\n",
    "    \n",
    "    if label == ''.join(encoder.classes_[predict]):\n",
    "        correct += 1"
   ]
  },
  {
   "cell_type": "code",
   "execution_count": 72,
   "metadata": {},
   "outputs": [
    {
     "data": {
      "text/plain": [
       "1.0"
      ]
     },
     "execution_count": 72,
     "metadata": {},
     "output_type": "execute_result"
    }
   ],
   "source": [
    "float(correct) / len(os.listdir(img_dir_path))"
   ]
  },
  {
   "cell_type": "code",
   "execution_count": null,
   "metadata": {
    "collapsed": true
   },
   "outputs": [],
   "source": []
  }
 ],
 "metadata": {
  "kernelspec": {
   "display_name": "Python 3",
   "language": "python",
   "name": "python3"
  },
  "language_info": {
   "codemirror_mode": {
    "name": "ipython",
    "version": 3
   },
   "file_extension": ".py",
   "mimetype": "text/x-python",
   "name": "python",
   "nbconvert_exporter": "python",
   "pygments_lexer": "ipython3",
   "version": "3.6.3"
  }
 },
 "nbformat": 4,
 "nbformat_minor": 2
}
