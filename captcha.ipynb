{
 "cells": [
  {
   "cell_type": "code",
   "execution_count": 1,
   "metadata": {},
   "outputs": [
    {
     "name": "stdout",
     "output_type": "stream",
     "text": [
      "Populating the interactive namespace from numpy and matplotlib\n"
     ]
    }
   ],
   "source": [
    "%pylab inline\n",
    "\n",
    "import os\n",
    "from src.CAPTCHA_to_signs import DFS"
   ]
  },
  {
   "cell_type": "markdown",
   "metadata": {},
   "source": [
    "## Preprocess\n",
    "\n",
    "W tym miejscu chcemy podzielić surowe CAPTCHA ze znanymi etykietami na poszczególne znaki z również znanymi etykietami. Powstały zbiór wykorzystamy do nauki modelu"
   ]
  },
  {
   "cell_type": "code",
   "execution_count": 2,
   "metadata": {},
   "outputs": [],
   "source": [
    "root_path = os.getcwd()\n",
    "img_dir_path = os.path.join(root_path, 'data', 'raw')\n",
    "invalid_img_dir_path = os.path.join(root_path, 'data', 'invalid')\n",
    "signs_output_dir_path = os.path.join(root_path, 'data', 'signs')"
   ]
  },
  {
   "cell_type": "code",
   "execution_count": 3,
   "metadata": {},
   "outputs": [],
   "source": [
    "for sign in '0123456789ABCDEFGHIJKLMNOPQRSTUVWXYZ':\n",
    "    sign_dir_path = os.path.join(signs_output_dir_path, sign)\n",
    "    \n",
    "    if not os.path.exists(sign_dir_path):\n",
    "        os.makedirs(sign_dir_path)"
   ]
  },
  {
   "cell_type": "code",
   "execution_count": 4,
   "metadata": {},
   "outputs": [],
   "source": [
    "from collections import Counter\n",
    "\n",
    "counter = Counter()\n",
    "\n",
    "for img_filename in os.listdir(img_dir_path):\n",
    "    img_path = os.path.join(img_dir_path, img_filename)\n",
    "    \n",
    "    label = img_filename.split('.')[0].upper()\n",
    "    signs = DFS(img_path).dfs_all()\n",
    "    \n",
    "    # Przenieś niepoprawne obrazki do folderu invalid\n",
    "    if len(label) != len(signs):\n",
    "        invalid_img_path = os.path.join(invalid_img_dir_path, img_filename)\n",
    "        os.rename(img_path, invalid_img_path)\n",
    "        continue\n",
    "        \n",
    "    for sign, target in zip(signs, label):\n",
    "        counter[target] += 1\n",
    "        \n",
    "        sign_path = os.path.join(signs_output_dir_path, target, str(counter[target]))\n",
    "        sign.save(sign_path)"
   ]
  },
  {
   "cell_type": "code",
   "execution_count": null,
   "metadata": {},
   "outputs": [],
   "source": []
  }
 ],
 "metadata": {
  "kernelspec": {
   "display_name": "Python 2",
   "language": "python",
   "name": "python2"
  },
  "language_info": {
   "codemirror_mode": {
    "name": "ipython",
    "version": 2
   },
   "file_extension": ".py",
   "mimetype": "text/x-python",
   "name": "python",
   "nbconvert_exporter": "python",
   "pygments_lexer": "ipython2",
   "version": "2.7.14"
  }
 },
 "nbformat": 4,
 "nbformat_minor": 2
}
