{
 "cells": [
  {
   "cell_type": "markdown",
   "metadata": {},
   "source": [
    "## Opis problemu\n",
    "\n",
    "**< UZUPEŁNIĆ >**"
   ]
  },
  {
   "cell_type": "markdown",
   "metadata": {},
   "source": [
    "## Schemat rowiązania\n",
    "\n",
    "1. Zebranie danych\n",
    "2. Podział na podzbiór uczący i testowy\n",
    "3. Usunięcie ze zbioru uczącego źle dzielonych przykładów\n",
    "4. Wydzielenie i opisanie poszczególnych znaków\n",
    "5. Wyuczenie modelu do rozpoznawania znaków\n",
    "6. Sprawdzenie skuteczności na zbiorze testowym"
   ]
  },
  {
   "cell_type": "markdown",
   "metadata": {},
   "source": [
    "## Pomocnicze funkcje"
   ]
  },
  {
   "cell_type": "code",
   "execution_count": 84,
   "metadata": {},
   "outputs": [
    {
     "name": "stdout",
     "output_type": "stream",
     "text": [
      "Populating the interactive namespace from numpy and matplotlib\n"
     ]
    },
    {
     "name": "stderr",
     "output_type": "stream",
     "text": [
      "Using TensorFlow backend.\n"
     ]
    }
   ],
   "source": [
    "%pylab inline\n",
    "\n",
    "import os\n",
    "import random\n",
    "\n",
    "from IPython.display import display\n",
    "import ipywidgets as widgets\n",
    "\n",
    "from src.CAPTCHA_to_signs import DFS\n",
    "from src.split_by_DBSCAN import DBScan\n",
    "\n",
    "import keras\n",
    "\n",
    "from keras.preprocessing import image\n",
    "from keras.models import Sequential\n",
    "from keras.layers import Dense, Dropout, Flatten\n",
    "from keras.layers import Conv2D, MaxPooling2D\n",
    "from keras import backend as K\n",
    "from keras.callbacks import CSVLogger, ModelCheckpoint\n",
    "\n",
    "from sklearn.model_selection import train_test_split\n",
    "from sklearn.preprocessing import LabelBinarizer"
   ]
  },
  {
   "cell_type": "code",
   "execution_count": 107,
   "metadata": {
    "collapsed": true
   },
   "outputs": [],
   "source": [
    "def prepare_workspace(data_dir_path, alphabet):\n",
    "    workspace = {d: os.path.join(data_dir_path, d) for d in ['raw', 'invalid', 'train', 'test', 'signs', 'model']}\n",
    "    workspace['log'] = os.path.join(workspace['model'], 'log')\n",
    "    \n",
    "    for dir_path in workspace.values():\n",
    "        if not os.path.exists(dir_path):\n",
    "            os.makedirs(dir_path)\n",
    "            \n",
    "    for sign in alphabet:\n",
    "        sign_dir_path = os.path.join(workspace['signs'], sign)\n",
    "\n",
    "        if not os.path.exists(sign_dir_path):\n",
    "            os.makedirs(sign_dir_path)\n",
    "            \n",
    "    return workspace"
   ]
  },
  {
   "cell_type": "code",
   "execution_count": 18,
   "metadata": {
    "collapsed": true
   },
   "outputs": [],
   "source": [
    "def show_samples(workspace, source='raw', cols=4, rows=3):\n",
    "    img_dir_path = workspace[source]\n",
    "    \n",
    "    img_filenames = random.sample(os.listdir(img_dir_path), cols * rows)\n",
    "    fig, axes = plt.subplots(ncols=cols, nrows=rows, figsize=(15, 5))\n",
    "\n",
    "    for img_filename, ax in zip(img_filenames, axes.flatten()):\n",
    "        img_path = os.path.join(img_dir_path, img_filename)\n",
    "        img = imread(img_path)\n",
    "        ax.imshow(img)"
   ]
  },
  {
   "cell_type": "code",
   "execution_count": 74,
   "metadata": {
    "collapsed": true
   },
   "outputs": [],
   "source": [
    "def split_dataset(workspace, test_ratio=0.3):\n",
    "    img_dir_path = workspace['raw']\n",
    "    train_img_dir_path = workspace['train']\n",
    "    test_img_dir_path = workspace['test']\n",
    "    \n",
    "    samples = len(os.listdir(img_dir_path))\n",
    "    test_samples = int(test_ratio * samples)\n",
    "    \n",
    "    progress = widgets.IntProgress(max=samples)\n",
    "    display(progress)\n",
    "    \n",
    "    # Przenieś część do test\n",
    "    for img_filename in random.sample(os.listdir(img_dir_path), test_samples):\n",
    "        img_path = os.path.join(img_dir_path, img_filename)\n",
    "\n",
    "        test_img_path = os.path.join(test_img_dir_path, img_filename)\n",
    "        os.rename(img_path, test_img_path)\n",
    "        \n",
    "        progress.value += 1\n",
    "        \n",
    "    # Przenieś pozostałe do train\n",
    "    for img_filename in os.listdir(img_dir_path):\n",
    "        img_path = os.path.join(img_dir_path, img_filename)\n",
    "\n",
    "        train_img_path = os.path.join(train_img_dir_path, img_filename)\n",
    "        os.rename(img_path, train_img_path)\n",
    "        \n",
    "        progress.value += 1\n",
    "        \n",
    "    return test_samples, samples - test_samples"
   ]
  },
  {
   "cell_type": "code",
   "execution_count": 75,
   "metadata": {
    "collapsed": true
   },
   "outputs": [],
   "source": [
    "def remove_invalid_samples(workspace, splitter):\n",
    "    img_dir_path = workspace['train']\n",
    "    invalid_img_dir_path = workspace['invalid']\n",
    "    \n",
    "    progress = widgets.IntProgress(max=len(os.listdir(img_dir_path)))\n",
    "    display(progress)\n",
    "    \n",
    "    counter = 0\n",
    "    for img_filename in os.listdir(img_dir_path):\n",
    "        img_path = os.path.join(img_dir_path, img_filename)\n",
    "\n",
    "        label = img_filename.split('.')[0].upper()\n",
    "        signs = splitter(img_path)\n",
    "\n",
    "        # Przenieś niepoprawne obrazki do folderu invalid\n",
    "        if len(label) != len(signs):\n",
    "            invalid_img_path = os.path.join(invalid_img_dir_path, img_filename)\n",
    "            os.rename(img_path, invalid_img_path)\n",
    "            counter += 1\n",
    "            \n",
    "        progress.value += 1\n",
    "            \n",
    "    return counter"
   ]
  },
  {
   "cell_type": "code",
   "execution_count": 76,
   "metadata": {
    "collapsed": true
   },
   "outputs": [],
   "source": [
    "from collections import Counter\n",
    "\n",
    "def extract_signs(workspace, splitter):\n",
    "    train_img_dir_path = workspace['train']\n",
    "    signs_dir_path = workspace['signs']\n",
    "    \n",
    "    progress = widgets.IntProgress(max=len(os.listdir(train_img_dir_path)))\n",
    "    display(progress)\n",
    "    \n",
    "    counter = Counter()\n",
    "\n",
    "    for img_filename in os.listdir(train_img_dir_path):\n",
    "        img_path = os.path.join(train_img_dir_path, img_filename)\n",
    "\n",
    "        label = img_filename.split('.')[0].upper()\n",
    "        signs = splitter(img_path)\n",
    "\n",
    "        for sign, target in zip(signs, label):\n",
    "            counter[target] += 1\n",
    "\n",
    "            sign_path = os.path.join(signs_dir_path, target, str(counter[target]))\n",
    "            sign.save(sign_path)\n",
    "            \n",
    "        progress.value += 1\n",
    "            \n",
    "    return counter"
   ]
  },
  {
   "cell_type": "code",
   "execution_count": 65,
   "metadata": {
    "collapsed": true
   },
   "outputs": [],
   "source": [
    "def show_signs_stats(signs_stats):\n",
    "    x = signs_stats.keys()\n",
    "    y = signs_stats.values()\n",
    "    \n",
    "    ind = np.arange(len(x))\n",
    "    \n",
    "    fig, ax = plt.subplots(figsize=(15, 5))\n",
    "    \n",
    "    ax.bar(ind, y)\n",
    "    \n",
    "    ax.set_title('Amount of signs')\n",
    "    ax.set_xticks(np.arange(len(x)))\n",
    "    ax.set_xticklabels(x)"
   ]
  },
  {
   "cell_type": "code",
   "execution_count": 78,
   "metadata": {
    "collapsed": true
   },
   "outputs": [],
   "source": [
    "def show_sample_sign(workspace, sign):\n",
    "    signs_dir_path = workspace['signs']\n",
    "    sign_dir_path = os.path.join(signs_dir_path, sign)\n",
    "\n",
    "    img_filenames = random.sample(os.listdir(sign_dir_path), 15)\n",
    "    fig, axes = plt.subplots(ncols=5, nrows=3, figsize=(15, 5))\n",
    "\n",
    "    for img_filename, ax in zip(img_filenames, axes.flatten()):\n",
    "        img_path = os.path.join(sign_dir_path, img_filename)\n",
    "        img = imread(img_path)\n",
    "        ax.imshow(img, cmap='gray')"
   ]
  },
  {
   "cell_type": "code",
   "execution_count": 101,
   "metadata": {
    "collapsed": true
   },
   "outputs": [],
   "source": [
    "def read_data_for_model(workspace, alphabet):\n",
    "    signs_dir_path = workspace['signs']\n",
    "    \n",
    "    X, y = [], []\n",
    "    \n",
    "    progress = widgets.IntProgress(max=len(alphabet))\n",
    "    display(progress)\n",
    "\n",
    "    for sign in alphabet:\n",
    "        sign_dir_path = os.path.join(signs_dir_path, sign)\n",
    "\n",
    "        for img_filename in os.listdir(sign_dir_path):\n",
    "            img_path = os.path.join(sign_dir_path, img_filename)\n",
    "\n",
    "            img = image.load_img(img_path, grayscale=True)\n",
    "            img = image.img_to_array(img)\n",
    "\n",
    "            X.append(img)\n",
    "            y.append(sign)\n",
    "            \n",
    "        progress.value += 1\n",
    "\n",
    "    X = np.array(X, dtype='float32') / 255.\n",
    "    \n",
    "    encoder = LabelBinarizer()\n",
    "    y = encoder.fit_transform(np.array(y))\n",
    "    \n",
    "    return X, y, encoder"
   ]
  },
  {
   "cell_type": "code",
   "execution_count": 97,
   "metadata": {
    "collapsed": true
   },
   "outputs": [],
   "source": [
    "def create_model(input_shape, num_classes):\n",
    "    model = Sequential()\n",
    "    \n",
    "    model.add(Conv2D(32, kernel_size=(3, 3), activation='relu', input_shape=input_shape))\n",
    "    model.add(Conv2D(64, (3, 3), activation='relu'))\n",
    "    model.add(MaxPooling2D(pool_size=(2, 2)))\n",
    "    model.add(Dropout(0.25))\n",
    "    model.add(Flatten())\n",
    "    model.add(Dense(128, activation='relu'))\n",
    "    model.add(Dropout(0.5))\n",
    "    model.add(Dense(num_classes, activation='softmax'))\n",
    "\n",
    "    return model"
   ]
  },
  {
   "cell_type": "code",
   "execution_count": 125,
   "metadata": {
    "collapsed": true
   },
   "outputs": [],
   "source": [
    "def create_logger_and_checkpoint(workspace, name):\n",
    "    model_path = workspace['model']\n",
    "    log_path = workspace['log']\n",
    "    \n",
    "    cur_model = name\n",
    "    csv_logger = CSVLogger(os.path.join(log_path, cur_model + '.log'))\n",
    "\n",
    "    model_file_name= os.path.join(model_path, cur_model + '-{epoch:03d}-{val_loss:.5f}.h5')\n",
    "    checkpoint = ModelCheckpoint(model_file_name, verbose=0, save_best_only=True)\n",
    "    \n",
    "    return csv_logger, checkpoint"
   ]
  },
  {
   "cell_type": "code",
   "execution_count": 210,
   "metadata": {
    "collapsed": true
   },
   "outputs": [],
   "source": [
    "def load_model(workspace, name):\n",
    "    model_path = workspace['model']\n",
    "    model_path = os.path.join(model_path, name)\n",
    "    \n",
    "    model = keras.models.load_model(model_path)\n",
    "    return model"
   ]
  },
  {
   "cell_type": "code",
   "execution_count": 199,
   "metadata": {},
   "outputs": [],
   "source": [
    "def validate_captcha_system(workspace, model, splitter, shape, encoder):\n",
    "    test_img_dir_path = workspace['test']\n",
    "    \n",
    "    progress = widgets.IntProgress(max=len(os.listdir(test_img_dir_path)))\n",
    "    display(progress)\n",
    "    \n",
    "    correct = 0\n",
    "    invalid_len = 0\n",
    "\n",
    "    for img_filename in os.listdir(test_img_dir_path):\n",
    "        img_path = os.path.join(test_img_dir_path, img_filename)\n",
    "\n",
    "        label = img_filename.split('.')[0].upper()\n",
    "        signs = splitter(img_path)\n",
    "\n",
    "        signs = np.array([s.bitmap for s in signs]).reshape(-1, *shape)\n",
    "        predict = model.predict_classes(signs, verbose=0)\n",
    "\n",
    "        if len(label) != len(predict):\n",
    "            invalid_len += 1\n",
    "        \n",
    "        if label == ''.join(encoder.classes_[predict]):\n",
    "            correct += 1\n",
    "            \n",
    "        progress.value += 1\n",
    "        \n",
    "    samples = len(os.listdir(test_img_dir_path))\n",
    "            \n",
    "    return correct * 100. / samples, correct * 100. / (samples - invalid_len)"
   ]
  },
  {
   "cell_type": "code",
   "execution_count": 150,
   "metadata": {
    "collapsed": true
   },
   "outputs": [],
   "source": [
    "def show_sample_captcha_solve(workspace, model, splitter, shape, encoder):\n",
    "    test_img_dir_path = workspace['test']\n",
    "    \n",
    "    sample_img_filename = random.choice(os.listdir(test_img_dir_path))\n",
    "    sample_img_path = os.path.join(test_img_dir_path, sample_img_filename)\n",
    "\n",
    "    sample_img = imread(sample_img_path)\n",
    "    \n",
    "    imshow(sample_img);\n",
    "    title(sample_img_filename.split('.')[0].upper())\n",
    "    \n",
    "    sample_signs = splitter(sample_img_path)\n",
    "    \n",
    "    sample_signs_bitmap = np.array([s.bitmap for s in sample_signs]).reshape(-1, *shape)\n",
    "    predict = model.predict_classes(sample_signs_bitmap, verbose=0)\n",
    "\n",
    "    fig, axes = plt.subplots(ncols=len(sample_signs))\n",
    "    for sign, ax, p in zip(sample_signs, axes, encoder.classes_[predict]):\n",
    "        ax.imshow(sign.bitmap, cmap='gray')\n",
    "        ax.set_xlabel(p)"
   ]
  },
  {
   "cell_type": "markdown",
   "metadata": {},
   "source": [
    "## Zbiór danych nr 1\n",
    "\n",
    "Zbiór ten został wygenerowany na podstawie rozszerzenia do WordPress [Really Simple CAPTCHA](https://wordpress.org/plugins/really-simple-captcha/), które zostało pobrane ponad 1 milion razy. Wszystkie CAPTCHA są długości **4** oraz składają sie z domyślnego alfabetu **'23456789ABCDEFGHJKLMNPQRSTUVWXYZ'** (zostały pominięte znaki np. '1' i 'I', ponieważ są one zbyt podobne do siebie)\n",
    "\n",
    "Ostatecznie udało się uzyskać **~84.29%** skuteczności"
   ]
  },
  {
   "cell_type": "code",
   "execution_count": 203,
   "metadata": {},
   "outputs": [
    {
     "data": {
      "image/png": "[encoded data removed]",
      "text/plain": [
       "<matplotlib.figure.Figure at 0x7f012402ff90>"
      ]
     },
     "metadata": {},
     "output_type": "display_data"
    }
   ],
   "source": [
    "alphabet='23456789ABCDEFGHJKLMNPQRSTUVWXYZ'\n",
    "workspace = prepare_workspace(os.path.join(os.getcwd(), 'data', 'dataset1'), alphabet)\n",
    "\n",
    "splitter = lambda path: DFS(path).dfs_all()\n",
    "\n",
    "show_samples(workspace, source='train')"
   ]
  },
  {
   "cell_type": "markdown",
   "metadata": {},
   "source": [
    "#### Podziel zestaw na podzbiór testowy i uczący"
   ]
  },
  {
   "cell_type": "code",
   "execution_count": 13,
   "metadata": {},
   "outputs": [
    {
     "name": "stdout",
     "output_type": "stream",
     "text": [
      "Test samples: 2986\n",
      "Train samples: 6969\n"
     ]
    }
   ],
   "source": [
    "test_samples, train_samples = split_dataset(workspace)\n",
    "\n",
    "print 'Test samples:', test_samples\n",
    "print 'Train samples:', train_samples"
   ]
  },
  {
   "cell_type": "markdown",
   "metadata": {},
   "source": [
    "#### Usuwamy źle dzielone CAPTCHA ze zbioru trenującego"
   ]
  },
  {
   "cell_type": "code",
   "execution_count": 24,
   "metadata": {},
   "outputs": [
    {
     "name": "stdout",
     "output_type": "stream",
     "text": [
      "Invalid samples: 1133\n"
     ]
    }
   ],
   "source": [
    "invalid_samples = remove_invalid_samples(workspace, splitter)\n",
    "\n",
    "print 'Invalid samples:', invalid_samples"
   ]
  },
  {
   "cell_type": "markdown",
   "metadata": {},
   "source": [
    "#### Z obrazków ze zbioru trenującego wydzielamy znaki i zapisujemy je w odpowiednim katalogu"
   ]
  },
  {
   "cell_type": "code",
   "execution_count": 67,
   "metadata": {},
   "outputs": [
    {
     "data": {
      "image/png": "[encoded data removed]",
      "text/plain": [
       "<matplotlib.figure.Figure at 0x7f017b2ea110>"
      ]
     },
     "metadata": {},
     "output_type": "display_data"
    }
   ],
   "source": [
    "signs_stats = extract_signs(workspace, splitter)\n",
    "\n",
    "show_signs_stats(signs_stats)"
   ]
  },
  {
   "cell_type": "code",
   "execution_count": 82,
   "metadata": {},
   "outputs": [
    {
     "data": {
      "image/png": "[encoded data removed]",
      "text/plain": [
       "<matplotlib.figure.Figure at 0x7f017b667c50>"
      ]
     },
     "metadata": {},
     "output_type": "display_data"
    }
   ],
   "source": [
    "show_sample_sign(workspace, 'B')"
   ]
  },
  {
   "cell_type": "markdown",
   "metadata": {},
   "source": [
    "#### Tworzenie modelu do rozpoznawania znaków"
   ]
  },
  {
   "cell_type": "code",
   "execution_count": 212,
   "metadata": {},
   "outputs": [
    {
     "data": {
      "application/vnd.jupyter.widget-view+json": {
       "model_id": "4240b8f7d1194a3e87fa2961b829004b"
      }
     },
     "metadata": {},
     "output_type": "display_data"
    },
    {
     "name": "stdout",
     "output_type": "stream",
     "text": [
      "X_train shape: (18675, 16, 16, 1)\n",
      "18675 train samples\n",
      "4669 test samples\n"
     ]
    }
   ],
   "source": [
    "X, y, encoder = read_data_for_model(workspace, alphabet)\n",
    "\n",
    "X_train, X_test, y_train, y_test = train_test_split(X, y, test_size=0.20, random_state=42)\n",
    "\n",
    "print 'X_train shape:', X_train.shape\n",
    "print X_train.shape[0], 'train samples'\n",
    "print X_test.shape[0], 'test samples'"
   ]
  },
  {
   "cell_type": "code",
   "execution_count": 204,
   "metadata": {},
   "outputs": [
    {
     "name": "stdout",
     "output_type": "stream",
     "text": [
      "_________________________________________________________________\n",
      "Layer (type)                 Output Shape              Param #   \n",
      "=================================================================\n",
      "conv2d_7 (Conv2D)            (None, 14, 14, 32)        320       \n",
      "_________________________________________________________________\n",
      "conv2d_8 (Conv2D)            (None, 12, 12, 64)        18496     \n",
      "_________________________________________________________________\n",
      "max_pooling2d_4 (MaxPooling2 (None, 6, 6, 64)          0         \n",
      "_________________________________________________________________\n",
      "dropout_7 (Dropout)          (None, 6, 6, 64)          0         \n",
      "_________________________________________________________________\n",
      "flatten_4 (Flatten)          (None, 2304)              0         \n",
      "_________________________________________________________________\n",
      "dense_7 (Dense)              (None, 128)               295040    \n",
      "_________________________________________________________________\n",
      "dropout_8 (Dropout)          (None, 128)               0         \n",
      "_________________________________________________________________\n",
      "dense_8 (Dense)              (None, 32)                4128      \n",
      "=================================================================\n",
      "Total params: 317,984\n",
      "Trainable params: 317,984\n",
      "Non-trainable params: 0\n",
      "_________________________________________________________________\n"
     ]
    }
   ],
   "source": [
    "input_shape = (16, 16, 1)\n",
    "batch_size = 128\n",
    "\n",
    "model = create_model(input_shape, num_classes=len(alphabet))\n",
    "\n",
    "model.summary()"
   ]
  },
  {
   "cell_type": "code",
   "execution_count": 112,
   "metadata": {
    "collapsed": true
   },
   "outputs": [],
   "source": [
    "model.compile(loss=keras.losses.categorical_crossentropy,\n",
    "              optimizer=keras.optimizers.Adadelta(),\n",
    "              metrics=['accuracy'])"
   ]
  },
  {
   "cell_type": "markdown",
   "metadata": {},
   "source": [
    "#### Sprawdzanie skuteczności modelu na części testowej"
   ]
  },
  {
   "cell_type": "code",
   "execution_count": 116,
   "metadata": {},
   "outputs": [
    {
     "name": "stdout",
     "output_type": "stream",
     "text": [
      "Train on 18675 samples, validate on 4669 samples\n",
      "Epoch 1/5\n",
      "18675/18675 [==============================] - 1s - loss: 0.0040 - acc: 0.9988 - val_loss: 9.3191e-07 - val_acc: 1.0000\n",
      "Epoch 2/5\n",
      "18675/18675 [==============================] - 1s - loss: 0.0037 - acc: 0.9988 - val_loss: 1.3165e-06 - val_acc: 1.0000\n",
      "Epoch 3/5\n",
      "18675/18675 [==============================] - ETA: 0s - loss: 0.0040 - acc: 0.998 - 1s - loss: 0.0040 - acc: 0.9988 - val_loss: 1.3044e-06 - val_acc: 1.0000\n",
      "Epoch 4/5\n",
      "18675/18675 [==============================] - 1s - loss: 0.0038 - acc: 0.9987 - val_loss: 1.4707e-06 - val_acc: 1.0000\n",
      "Epoch 5/5\n",
      "18675/18675 [==============================] - 1s - loss: 0.0047 - acc: 0.9982 - val_loss: 1.2281e-06 - val_acc: 1.0000\n"
     ]
    }
   ],
   "source": [
    "model.fit(X_train, y_train,\n",
    "          batch_size=batch_size,\n",
    "          epochs=5,\n",
    "          verbose=1,\n",
    "          validation_data=(X_test, y_test));"
   ]
  },
  {
   "cell_type": "code",
   "execution_count": 131,
   "metadata": {},
   "outputs": [
    {
     "name": "stdout",
     "output_type": "stream",
     "text": [
      "Test loss: 1.26281701724e-07\n",
      "Test accuracy: 1.0\n"
     ]
    }
   ],
   "source": [
    "loss, acc = model.evaluate(X_test, y_test, verbose=0)\n",
    "print 'Test loss:', loss\n",
    "print 'Test accuracy:', acc"
   ]
  },
  {
   "cell_type": "markdown",
   "metadata": {},
   "source": [
    "#### Uczenie modelu na pełym zestawie"
   ]
  },
  {
   "cell_type": "code",
   "execution_count": 127,
   "metadata": {},
   "outputs": [],
   "source": [
    "csv_logger, checkpoint = create_logger_and_checkpoint(workspace, 'model-full-v1-dataset1')"
   ]
  },
  {
   "cell_type": "code",
   "execution_count": 130,
   "metadata": {},
   "outputs": [
    {
     "name": "stdout",
     "output_type": "stream",
     "text": [
      "Train on 23344 samples, validate on 23344 samples\n",
      "Epoch 1/5\n",
      "23344/23344 [==============================] - 1s - loss: 0.0017 - acc: 0.9994 - val_loss: 1.2506e-07 - val_acc: 1.0000\n",
      "Epoch 2/5\n",
      "23344/23344 [==============================] - 1s - loss: 0.0015 - acc: 0.9996 - val_loss: 1.2382e-07 - val_acc: 1.0000\n",
      "Epoch 3/5\n",
      "23344/23344 [==============================] - 1s - loss: 0.0018 - acc: 0.9993 - val_loss: 1.4567e-07 - val_acc: 1.0000\n",
      "Epoch 4/5\n",
      "23344/23344 [==============================] - 1s - loss: 0.0012 - acc: 0.9995 - val_loss: 1.2519e-07 - val_acc: 1.0000\n",
      "Epoch 5/5\n",
      "23344/23344 [==============================] - 1s - loss: 0.0017 - acc: 0.9995 - val_loss: 1.2441e-07 - val_acc: 1.0000\n"
     ]
    }
   ],
   "source": [
    "model.fit(X, y,\n",
    "          batch_size=batch_size,\n",
    "          epochs=5,\n",
    "          verbose=1,\n",
    "          validation_data=(X, y),\n",
    "          callbacks=[csv_logger, checkpoint]);"
   ]
  },
  {
   "cell_type": "code",
   "execution_count": 211,
   "metadata": {
    "collapsed": true
   },
   "outputs": [],
   "source": [
    "model = load_model(workspace, 'model-full-v1-dataset1-009-0.00000.h5')"
   ]
  },
  {
   "cell_type": "markdown",
   "metadata": {},
   "source": [
    "### Testowanie systemu na zbiorze testowym CAPTCHA"
   ]
  },
  {
   "cell_type": "code",
   "execution_count": 213,
   "metadata": {},
   "outputs": [
    {
     "data": {
      "image/png": "[encoded data removed]",
      "text/plain": [
       "<matplotlib.figure.Figure at 0x7f010064eed0>"
      ]
     },
     "metadata": {},
     "output_type": "display_data"
    },
    {
     "data": {
      "image/png": "[encoded data removed]",
      "text/plain": [
       "<matplotlib.figure.Figure at 0x7f01295c3350>"
      ]
     },
     "metadata": {},
     "output_type": "display_data"
    }
   ],
   "source": [
    "show_sample_captcha_solve(workspace, model, splitter, input_shape, encoder)"
   ]
  },
  {
   "cell_type": "code",
   "execution_count": 214,
   "metadata": {},
   "outputs": [
    {
     "data": {
      "application/vnd.jupyter.widget-view+json": {
       "model_id": "a9e987b7b4654068a3640a71b9dad497"
      }
     },
     "metadata": {},
     "output_type": "display_data"
    },
    {
     "name": "stdout",
     "output_type": "stream",
     "text": [
      "Test CAPTCHA dataset accuracy: 84.2933690556%\n",
      "Test CAPTCHA dataset with good split accuracy: 100.0%\n"
     ]
    }
   ],
   "source": [
    "acc, acc_len = validate_captcha_system(workspace, model, splitter, input_shape, encoder)\n",
    "\n",
    "print 'Test CAPTCHA dataset accuracy: {}%'.format(acc)\n",
    "print 'Test CAPTCHA dataset with good split accuracy: {}%'.format(acc_len)"
   ]
  },
  {
   "cell_type": "markdown",
   "metadata": {},
   "source": [
    "## Zbiór danych nr 2\n",
    "\n",
    "Zestaw ten został wygenerowany przy użyciu http://captchas.net/. Wszystkie CAPTCHA są długości **6** oraz składają sie z domyślnego alfabetu **'23456789abcdefghjklmnpqrstuvwxyz'**\n",
    "\n",
    "W tym przypadku DBScan potrzebuje 8 sąsadów\n",
    "\n",
    "Ostatecznie udało się osiągnąć **~13.93%** dokładności"
   ]
  },
  {
   "cell_type": "code",
   "execution_count": 176,
   "metadata": {},
   "outputs": [],
   "source": [
    "alphabet='23456789ABCDEFGHJKLMNPQRSTUVWXYZ'\n",
    "letters = 6\n",
    "workspace = prepare_workspace(os.path.join(os.getcwd(), 'data', 'dataset2'), alphabet)\n",
    "\n",
    "splitter = lambda path: DBScan(path, min_samples=8).dbscan()"
   ]
  },
  {
   "cell_type": "markdown",
   "metadata": {},
   "source": [
    "#### Generowanie zbioru danych"
   ]
  },
  {
   "cell_type": "code",
   "execution_count": 160,
   "metadata": {
    "collapsed": true
   },
   "outputs": [],
   "source": [
    "import src.CaptchasDotNet as CaptchasDotNet"
   ]
  },
  {
   "cell_type": "code",
   "execution_count": 161,
   "metadata": {
    "collapsed": true
   },
   "outputs": [],
   "source": [
    "from IPython.display import Image, display\n",
    "from IPython.core.display import HTML \n",
    "\n",
    "def show_sample_captchasdotnet(alphabet, letters):\n",
    "    alphabet = alphabet.lower()\n",
    "    captchas = CaptchasDotNet.CaptchasDotNet(client='demo', secret='secret', alphabet=alphabet, letters=letters)\n",
    "    \n",
    "    captchas.random()\n",
    "\n",
    "    display(Image(url= captchas.image_url()))\n",
    "    print captchas.password()"
   ]
  },
  {
   "cell_type": "code",
   "execution_count": 167,
   "metadata": {
    "collapsed": true
   },
   "outputs": [],
   "source": [
    "import urllib\n",
    "from time import sleep\n",
    "\n",
    "def captchasdotnet_generate(workspace, alphabet, letters, samples):\n",
    "    img_dir_path = workspace['raw']\n",
    "    \n",
    "    alphabet = alphabet.lower()\n",
    "    captchas = CaptchasDotNet.CaptchasDotNet(client='demo', secret='secret', alphabet=alphabet, letters=letters)\n",
    "    \n",
    "    progress = widgets.IntProgress(max=samples)\n",
    "    display(progress)\n",
    "\n",
    "    for i in range(samples):\n",
    "        captchas.random()\n",
    "\n",
    "        image_url = captchas.image_url().replace('&amp;', '&')\n",
    "        label = captchas.password()\n",
    "\n",
    "        img_path = os.path.join(img_dir_path, '{}.png'.format(label))\n",
    "\n",
    "        urllib.urlretrieve(image_url, img_path)\n",
    "\n",
    "        progress.value += 1\n",
    "\n",
    "        if i % 10 == 0:\n",
    "            sleep(1)\n",
    "            \n",
    "    return len(os.listdir(img_dir_path))"
   ]
  },
  {
   "cell_type": "code",
   "execution_count": 168,
   "metadata": {},
   "outputs": [
    {
     "data": {
      "text/html": [
       "<img src=\"http://image.captchas.net/?client=demo&amp;random=hzQGo5bUNejEG5kjIN73gGoOP8VdrkVShn0zx9Jz&amp;alphabet=23456789abcdefghjklmnpqrstuvwxyz\"/>"
      ],
      "text/plain": [
       "<IPython.core.display.Image object>"
      ]
     },
     "metadata": {},
     "output_type": "display_data"
    },
    {
     "name": "stdout",
     "output_type": "stream",
     "text": [
      "tsyu93\n"
     ]
    }
   ],
   "source": [
    "show_sample_captchasdotnet(alphabet, 6)"
   ]
  },
  {
   "cell_type": "code",
   "execution_count": 174,
   "metadata": {},
   "outputs": [
    {
     "data": {
      "application/vnd.jupyter.widget-view+json": {
       "model_id": "22559806ea404b309dd98de616a595f6"
      }
     },
     "metadata": {},
     "output_type": "display_data"
    },
    {
     "name": "stdout",
     "output_type": "stream",
     "text": [
      "10000 samples in dataset2/raw\n"
     ]
    }
   ],
   "source": [
    "samples = captchasdotnet_generate(workspace, alphabet, letters, 4900)\n",
    "\n",
    "print samples, 'samples in dataset2/raw'"
   ]
  },
  {
   "cell_type": "code",
   "execution_count": 172,
   "metadata": {},
   "outputs": [
    {
     "data": {
      "image/png": "[encoded data removed]",
      "text/plain": [
       "<matplotlib.figure.Figure at 0x7f01296b8410>"
      ]
     },
     "metadata": {},
     "output_type": "display_data"
    }
   ],
   "source": [
    "show_samples(workspace, source='raw')"
   ]
  },
  {
   "cell_type": "markdown",
   "metadata": {},
   "source": [
    "#### Podziel zestaw na podzbiór testowy i uczący\n"
   ]
  },
  {
   "cell_type": "code",
   "execution_count": 175,
   "metadata": {},
   "outputs": [
    {
     "data": {
      "application/vnd.jupyter.widget-view+json": {
       "model_id": "d61349d270ce4d7bba394da82f40e684"
      }
     },
     "metadata": {},
     "output_type": "display_data"
    },
    {
     "name": "stdout",
     "output_type": "stream",
     "text": [
      "Test samples: 3000\n",
      "Train samples: 7000\n"
     ]
    }
   ],
   "source": [
    "test_samples, train_samples = split_dataset(workspace, test_ratio=0.3)\n",
    "\n",
    "print 'Test samples:', test_samples\n",
    "print 'Train samples:', train_samples"
   ]
  },
  {
   "cell_type": "markdown",
   "metadata": {},
   "source": [
    "#### Usuwamy źle dzielone CAPTCHA ze zbioru trenującego"
   ]
  },
  {
   "cell_type": "code",
   "execution_count": 177,
   "metadata": {},
   "outputs": [
    {
     "data": {
      "application/vnd.jupyter.widget-view+json": {
       "model_id": "80ab760871c6476e98cdef0ac894aa9c"
      }
     },
     "metadata": {},
     "output_type": "display_data"
    },
    {
     "name": "stdout",
     "output_type": "stream",
     "text": [
      "Invalid samples: 3895\n"
     ]
    }
   ],
   "source": [
    "invalid_samples = remove_invalid_samples(workspace, splitter)\n",
    "\n",
    "print 'Invalid samples:', invalid_samples"
   ]
  },
  {
   "cell_type": "markdown",
   "metadata": {},
   "source": [
    "#### Z obrazków ze zbioru trenującego wydzielamy znaki i zapisujemy je w odpowiednim katalogu"
   ]
  },
  {
   "cell_type": "code",
   "execution_count": 178,
   "metadata": {},
   "outputs": [
    {
     "data": {
      "application/vnd.jupyter.widget-view+json": {
       "model_id": "9803714b40b045989b296d9e06544d55"
      }
     },
     "metadata": {},
     "output_type": "display_data"
    },
    {
     "data": {
      "image/png": "[encoded data removed]",
      "text/plain": [
       "<matplotlib.figure.Figure at 0x7f0118764590>"
      ]
     },
     "metadata": {},
     "output_type": "display_data"
    }
   ],
   "source": [
    "signs_stats = extract_signs(workspace, splitter)\n",
    "\n",
    "show_signs_stats(signs_stats)"
   ]
  },
  {
   "cell_type": "code",
   "execution_count": 179,
   "metadata": {},
   "outputs": [
    {
     "data": {
      "image/png": "[encoded data removed]",
      "text/plain": [
       "<matplotlib.figure.Figure at 0x7f017bac4090>"
      ]
     },
     "metadata": {},
     "output_type": "display_data"
    }
   ],
   "source": [
    "show_sample_sign(workspace, 'B')"
   ]
  },
  {
   "cell_type": "markdown",
   "metadata": {},
   "source": [
    "#### Tworzenie modelu do rozpoznawania znaków"
   ]
  },
  {
   "cell_type": "code",
   "execution_count": 180,
   "metadata": {},
   "outputs": [
    {
     "data": {
      "application/vnd.jupyter.widget-view+json": {
       "model_id": "38b5fda85dd748038848a8e4cc4e208a"
      }
     },
     "metadata": {},
     "output_type": "display_data"
    },
    {
     "name": "stdout",
     "output_type": "stream",
     "text": [
      "X_train shape: (14904, 32, 32, 1)\n",
      "14904 train samples\n",
      "3726 test samples\n"
     ]
    }
   ],
   "source": [
    "X, y, encoder = read_data_for_model(workspace, alphabet)\n",
    "\n",
    "X_train, X_test, y_train, y_test = train_test_split(X, y, test_size=0.20, random_state=42)\n",
    "\n",
    "print 'X_train shape:', X_train.shape\n",
    "print X_train.shape[0], 'train samples'\n",
    "print X_test.shape[0], 'test samples'"
   ]
  },
  {
   "cell_type": "code",
   "execution_count": 181,
   "metadata": {},
   "outputs": [
    {
     "name": "stdout",
     "output_type": "stream",
     "text": [
      "_________________________________________________________________\n",
      "Layer (type)                 Output Shape              Param #   \n",
      "=================================================================\n",
      "conv2d_5 (Conv2D)            (None, 30, 30, 32)        320       \n",
      "_________________________________________________________________\n",
      "conv2d_6 (Conv2D)            (None, 28, 28, 64)        18496     \n",
      "_________________________________________________________________\n",
      "max_pooling2d_3 (MaxPooling2 (None, 14, 14, 64)        0         \n",
      "_________________________________________________________________\n",
      "dropout_5 (Dropout)          (None, 14, 14, 64)        0         \n",
      "_________________________________________________________________\n",
      "flatten_3 (Flatten)          (None, 12544)             0         \n",
      "_________________________________________________________________\n",
      "dense_5 (Dense)              (None, 128)               1605760   \n",
      "_________________________________________________________________\n",
      "dropout_6 (Dropout)          (None, 128)               0         \n",
      "_________________________________________________________________\n",
      "dense_6 (Dense)              (None, 32)                4128      \n",
      "=================================================================\n",
      "Total params: 1,628,704\n",
      "Trainable params: 1,628,704\n",
      "Non-trainable params: 0\n",
      "_________________________________________________________________\n"
     ]
    }
   ],
   "source": [
    "input_shape = (32, 32, 1)\n",
    "batch_size = 128\n",
    "\n",
    "model = create_model(input_shape, num_classes=len(alphabet))\n",
    "\n",
    "model.summary()"
   ]
  },
  {
   "cell_type": "code",
   "execution_count": 193,
   "metadata": {
    "collapsed": true
   },
   "outputs": [],
   "source": [
    "model.compile(loss=keras.losses.categorical_crossentropy,\n",
    "              optimizer=keras.optimizers.Adadelta(),\n",
    "              metrics=['accuracy'])"
   ]
  },
  {
   "cell_type": "markdown",
   "metadata": {},
   "source": [
    "#### Sprawdzanie skuteczności modelu na części testowej"
   ]
  },
  {
   "cell_type": "code",
   "execution_count": 191,
   "metadata": {},
   "outputs": [
    {
     "name": "stdout",
     "output_type": "stream",
     "text": [
      "Train on 14904 samples, validate on 3726 samples\n",
      "Epoch 1/5\n",
      "14904/14904 [==============================] - 1s - loss: 0.3229 - acc: 0.9003 - val_loss: 1.2949 - val_acc: 0.7858\n",
      "Epoch 2/5\n",
      "14904/14904 [==============================] - 1s - loss: 0.3295 - acc: 0.8969 - val_loss: 1.2875 - val_acc: 0.7861\n",
      "Epoch 3/5\n",
      "14904/14904 [==============================] - 1s - loss: 0.3180 - acc: 0.8997 - val_loss: 1.2950 - val_acc: 0.7869\n",
      "Epoch 4/5\n",
      "14904/14904 [==============================] - 1s - loss: 0.3192 - acc: 0.9044 - val_loss: 1.2933 - val_acc: 0.7866\n",
      "Epoch 5/5\n",
      "14904/14904 [==============================] - 1s - loss: 0.3182 - acc: 0.9011 - val_loss: 1.2945 - val_acc: 0.7866\n"
     ]
    }
   ],
   "source": [
    "model.fit(X_train, y_train,\n",
    "          batch_size=batch_size,\n",
    "          epochs=5,\n",
    "          verbose=1,\n",
    "          validation_data=(X_test, y_test));"
   ]
  },
  {
   "cell_type": "code",
   "execution_count": 192,
   "metadata": {},
   "outputs": [
    {
     "name": "stdout",
     "output_type": "stream",
     "text": [
      "Test loss: 1.29447530241\n",
      "Test accuracy: 0.786634460707\n"
     ]
    }
   ],
   "source": [
    "loss, acc = model.evaluate(X_test, y_test, verbose=0)\n",
    "print 'Test loss:', loss\n",
    "print 'Test accuracy:', acc"
   ]
  },
  {
   "cell_type": "markdown",
   "metadata": {},
   "source": [
    "#### Uczenie modelu na pełym zestawie"
   ]
  },
  {
   "cell_type": "code",
   "execution_count": 194,
   "metadata": {
    "collapsed": true
   },
   "outputs": [],
   "source": [
    "csv_logger, checkpoint = create_logger_and_checkpoint(workspace, 'model-full-v1-dataset2')"
   ]
  },
  {
   "cell_type": "code",
   "execution_count": 195,
   "metadata": {},
   "outputs": [
    {
     "name": "stdout",
     "output_type": "stream",
     "text": [
      "Train on 18630 samples, validate on 18630 samples\n",
      "Epoch 1/5\n",
      "18630/18630 [==============================] - 3s - loss: 0.6467 - acc: 0.8459 - val_loss: 0.3306 - val_acc: 0.9359\n",
      "Epoch 2/5\n",
      "18630/18630 [==============================] - 3s - loss: 0.6084 - acc: 0.8513 - val_loss: 0.3280 - val_acc: 0.9401\n",
      "Epoch 3/5\n",
      "18630/18630 [==============================] - 3s - loss: 0.5894 - acc: 0.8545 - val_loss: 0.3061 - val_acc: 0.9418\n",
      "Epoch 4/5\n",
      "18630/18630 [==============================] - 2s - loss: 0.5802 - acc: 0.8577 - val_loss: 0.3134 - val_acc: 0.9470\n",
      "Epoch 5/5\n",
      "18630/18630 [==============================] - 3s - loss: 0.5689 - acc: 0.8587 - val_loss: 0.2870 - val_acc: 0.9388\n"
     ]
    }
   ],
   "source": [
    "model.fit(X, y,\n",
    "          batch_size=batch_size,\n",
    "          epochs=5,\n",
    "          verbose=1,\n",
    "          validation_data=(X, y),\n",
    "          callbacks=[csv_logger, checkpoint]);"
   ]
  },
  {
   "cell_type": "markdown",
   "metadata": {},
   "source": [
    "### Testowanie systemu na zbiorze testowym CAPTCHA"
   ]
  },
  {
   "cell_type": "code",
   "execution_count": 196,
   "metadata": {},
   "outputs": [
    {
     "data": {
      "image/png": "[encoded data removed]",
      "text/plain": [
       "<matplotlib.figure.Figure at 0x7f017b770fd0>"
      ]
     },
     "metadata": {},
     "output_type": "display_data"
    },
    {
     "data": {
      "image/png": "[encoded data removed]",
      "text/plain": [
       "<matplotlib.figure.Figure at 0x7f01295c3310>"
      ]
     },
     "metadata": {},
     "output_type": "display_data"
    }
   ],
   "source": [
    "show_sample_captcha_solve(workspace, model, splitter, input_shape, encoder)"
   ]
  },
  {
   "cell_type": "code",
   "execution_count": 202,
   "metadata": {},
   "outputs": [
    {
     "name": "stdout",
     "output_type": "stream",
     "text": [
      "Test CAPTCHA dataset accuracy: 13.9333333333%\n",
      "Test CAPTCHA dataset with good split accuracy: 30.8943089431%\n"
     ]
    }
   ],
   "source": [
    "acc, acc_len = validate_captcha_system(workspace, model, splitter, input_shape, encoder)\n",
    "\n",
    "print 'Test CAPTCHA dataset accuracy: {}%'.format(acc)\n",
    "print 'Test CAPTCHA dataset with good split accuracy: {}%'.format(acc_len)"
   ]
  },
  {
   "cell_type": "markdown",
   "metadata": {},
   "source": [
    "## Zbiór danych nr 3\n",
    "\n",
    "Zestaw identyczny do zbioru nr 2, ale w tym przypadku dbscan korzysta z 7 sąsiadów\n",
    "\n",
    "Udało się osiągnąć **~66.73%** skuteczności"
   ]
  },
  {
   "cell_type": "code",
   "execution_count": 216,
   "metadata": {},
   "outputs": [
    {
     "data": {
      "image/png": "[encoded data removed]",
      "text/plain": [
       "<matplotlib.figure.Figure at 0x7f010051a810>"
      ]
     },
     "metadata": {},
     "output_type": "display_data"
    }
   ],
   "source": [
    "alphabet='23456789ABCDEFGHJKLMNPQRSTUVWXYZ'\n",
    "letters = 6\n",
    "workspace = prepare_workspace(os.path.join(os.getcwd(), 'data', 'dataset3'), alphabet)\n",
    "\n",
    "splitter = lambda path: DBScan(path, min_samples=7).dbscan()\n",
    "\n",
    "show_samples(workspace, source='raw')"
   ]
  },
  {
   "cell_type": "markdown",
   "metadata": {},
   "source": [
    "#### Podziel zestaw na podzbiór testowy i uczący\n"
   ]
  },
  {
   "cell_type": "code",
   "execution_count": 217,
   "metadata": {},
   "outputs": [
    {
     "data": {
      "application/vnd.jupyter.widget-view+json": {
       "model_id": "0f04b5c4bf374fed90557c22b5716597"
      }
     },
     "metadata": {},
     "output_type": "display_data"
    },
    {
     "name": "stdout",
     "output_type": "stream",
     "text": [
      "Test samples: 3000\n",
      "Train samples: 7000\n"
     ]
    }
   ],
   "source": [
    "test_samples, train_samples = split_dataset(workspace, test_ratio=0.3)\n",
    "\n",
    "print 'Test samples:', test_samples\n",
    "print 'Train samples:', train_samples"
   ]
  },
  {
   "cell_type": "markdown",
   "metadata": {},
   "source": [
    "#### Usuwamy źle dzielone CAPTCHA ze zbioru trenującego"
   ]
  },
  {
   "cell_type": "code",
   "execution_count": 218,
   "metadata": {},
   "outputs": [
    {
     "data": {
      "application/vnd.jupyter.widget-view+json": {
       "model_id": "f6093af87c9f4352b11c77ae26bfcc1e"
      }
     },
     "metadata": {},
     "output_type": "display_data"
    },
    {
     "name": "stdout",
     "output_type": "stream",
     "text": [
      "Invalid samples: 1792\n"
     ]
    }
   ],
   "source": [
    "invalid_samples = remove_invalid_samples(workspace, splitter)\n",
    "\n",
    "print 'Invalid samples:', invalid_samples"
   ]
  },
  {
   "cell_type": "markdown",
   "metadata": {},
   "source": [
    "#### Z obrazków ze zbioru trenującego wydzielamy znaki i zapisujemy je w odpowiednim katalogu"
   ]
  },
  {
   "cell_type": "code",
   "execution_count": 219,
   "metadata": {},
   "outputs": [
    {
     "data": {
      "application/vnd.jupyter.widget-view+json": {
       "model_id": "86c2dd1a1d6e4569a09068f8a1944cc8"
      }
     },
     "metadata": {},
     "output_type": "display_data"
    },
    {
     "data": {
      "image/png": "[encoded data removed]",
      "text/plain": [
       "<matplotlib.figure.Figure at 0x7f00fbeb3b90>"
      ]
     },
     "metadata": {},
     "output_type": "display_data"
    }
   ],
   "source": [
    "signs_stats = extract_signs(workspace, splitter)\n",
    "\n",
    "show_signs_stats(signs_stats)"
   ]
  },
  {
   "cell_type": "code",
   "execution_count": 220,
   "metadata": {},
   "outputs": [
    {
     "data": {
      "image/png": "[encoded data removed]",
      "text/plain": [
       "<matplotlib.figure.Figure at 0x7f012915ad50>"
      ]
     },
     "metadata": {},
     "output_type": "display_data"
    }
   ],
   "source": [
    "show_sample_sign(workspace, 'B')"
   ]
  },
  {
   "cell_type": "markdown",
   "metadata": {},
   "source": [
    "#### Tworzenie modelu do rozpoznawania znaków"
   ]
  },
  {
   "cell_type": "code",
   "execution_count": 221,
   "metadata": {},
   "outputs": [
    {
     "data": {
      "application/vnd.jupyter.widget-view+json": {
       "model_id": "3b7f386157e747ed910655c43be95c18"
      }
     },
     "metadata": {},
     "output_type": "display_data"
    },
    {
     "name": "stdout",
     "output_type": "stream",
     "text": [
      "X_train shape: (24998, 32, 32, 1)\n",
      "24998 train samples\n",
      "6250 test samples\n"
     ]
    }
   ],
   "source": [
    "X, y, encoder = read_data_for_model(workspace, alphabet)\n",
    "\n",
    "X_train, X_test, y_train, y_test = train_test_split(X, y, test_size=0.20, random_state=42)\n",
    "\n",
    "print 'X_train shape:', X_train.shape\n",
    "print X_train.shape[0], 'train samples'\n",
    "print X_test.shape[0], 'test samples'"
   ]
  },
  {
   "cell_type": "code",
   "execution_count": 222,
   "metadata": {},
   "outputs": [
    {
     "name": "stdout",
     "output_type": "stream",
     "text": [
      "_________________________________________________________________\n",
      "Layer (type)                 Output Shape              Param #   \n",
      "=================================================================\n",
      "conv2d_9 (Conv2D)            (None, 30, 30, 32)        320       \n",
      "_________________________________________________________________\n",
      "conv2d_10 (Conv2D)           (None, 28, 28, 64)        18496     \n",
      "_________________________________________________________________\n",
      "max_pooling2d_5 (MaxPooling2 (None, 14, 14, 64)        0         \n",
      "_________________________________________________________________\n",
      "dropout_9 (Dropout)          (None, 14, 14, 64)        0         \n",
      "_________________________________________________________________\n",
      "flatten_5 (Flatten)          (None, 12544)             0         \n",
      "_________________________________________________________________\n",
      "dense_9 (Dense)              (None, 128)               1605760   \n",
      "_________________________________________________________________\n",
      "dropout_10 (Dropout)         (None, 128)               0         \n",
      "_________________________________________________________________\n",
      "dense_10 (Dense)             (None, 32)                4128      \n",
      "=================================================================\n",
      "Total params: 1,628,704\n",
      "Trainable params: 1,628,704\n",
      "Non-trainable params: 0\n",
      "_________________________________________________________________\n"
     ]
    }
   ],
   "source": [
    "input_shape = (32, 32, 1)\n",
    "batch_size = 128\n",
    "\n",
    "model = create_model(input_shape, num_classes=len(alphabet))\n",
    "\n",
    "model.summary()"
   ]
  },
  {
   "cell_type": "code",
   "execution_count": 227,
   "metadata": {
    "collapsed": true
   },
   "outputs": [],
   "source": [
    "model.compile(loss=keras.losses.categorical_crossentropy,\n",
    "              optimizer=keras.optimizers.Adadelta(),\n",
    "              metrics=['accuracy'])"
   ]
  },
  {
   "cell_type": "markdown",
   "metadata": {},
   "source": [
    "#### Sprawdzanie skuteczności modelu na części testowej"
   ]
  },
  {
   "cell_type": "code",
   "execution_count": 228,
   "metadata": {},
   "outputs": [
    {
     "name": "stdout",
     "output_type": "stream",
     "text": [
      "Train on 24998 samples, validate on 6250 samples\n",
      "Epoch 1/5\n",
      "24998/24998 [==============================] - 3s - loss: 0.1223 - acc: 0.9760 - val_loss: 0.1577 - val_acc: 0.9718\n",
      "Epoch 2/5\n",
      "24998/24998 [==============================] - 3s - loss: 0.1162 - acc: 0.9770 - val_loss: 0.1607 - val_acc: 0.9718\n",
      "Epoch 3/5\n",
      "24998/24998 [==============================] - 3s - loss: 0.1152 - acc: 0.9774 - val_loss: 0.1617 - val_acc: 0.9723\n",
      "Epoch 4/5\n",
      "24998/24998 [==============================] - 3s - loss: 0.1182 - acc: 0.9759 - val_loss: 0.1594 - val_acc: 0.9722\n",
      "Epoch 5/5\n",
      "24998/24998 [==============================] - 3s - loss: 0.1168 - acc: 0.9770 - val_loss: 0.1572 - val_acc: 0.9722\n"
     ]
    }
   ],
   "source": [
    "model.fit(X_train, y_train,\n",
    "          batch_size=batch_size,\n",
    "          epochs=5,\n",
    "          verbose=1,\n",
    "          validation_data=(X_test, y_test));"
   ]
  },
  {
   "cell_type": "code",
   "execution_count": 229,
   "metadata": {},
   "outputs": [
    {
     "name": "stdout",
     "output_type": "stream",
     "text": [
      "Test loss: 0.157171601838\n",
      "Test accuracy: 0.972159999962\n"
     ]
    }
   ],
   "source": [
    "loss, acc = model.evaluate(X_test, y_test, verbose=0)\n",
    "print 'Test loss:', loss\n",
    "print 'Test accuracy:', acc"
   ]
  },
  {
   "cell_type": "markdown",
   "metadata": {},
   "source": [
    "#### Uczenie modelu na pełym zestawie"
   ]
  },
  {
   "cell_type": "code",
   "execution_count": 230,
   "metadata": {
    "collapsed": true
   },
   "outputs": [],
   "source": [
    "csv_logger, checkpoint = create_logger_and_checkpoint(workspace, 'model-full-v1-dataset3')"
   ]
  },
  {
   "cell_type": "code",
   "execution_count": 231,
   "metadata": {},
   "outputs": [
    {
     "name": "stdout",
     "output_type": "stream",
     "text": [
      "Train on 31248 samples, validate on 31248 samples\n",
      "Epoch 1/5\n",
      "31248/31248 [==============================] - 4s - loss: 0.1330 - acc: 0.9744 - val_loss: 0.0955 - val_acc: 0.9829\n",
      "Epoch 2/5\n",
      "31248/31248 [==============================] - 4s - loss: 0.1315 - acc: 0.9752 - val_loss: 0.0936 - val_acc: 0.9831\n",
      "Epoch 3/5\n",
      "31248/31248 [==============================] - 4s - loss: 0.1307 - acc: 0.9752 - val_loss: 0.0928 - val_acc: 0.9834\n",
      "Epoch 4/5\n",
      "31248/31248 [==============================] - 4s - loss: 0.1308 - acc: 0.9742 - val_loss: 0.0925 - val_acc: 0.9835\n",
      "Epoch 5/5\n",
      "31248/31248 [==============================] - 4s - loss: 0.1304 - acc: 0.9752 - val_loss: 0.0920 - val_acc: 0.9836\n"
     ]
    }
   ],
   "source": [
    "model.fit(X, y,\n",
    "          batch_size=batch_size,\n",
    "          epochs=5,\n",
    "          verbose=1,\n",
    "          validation_data=(X, y),\n",
    "          callbacks=[csv_logger, checkpoint]);"
   ]
  },
  {
   "cell_type": "markdown",
   "metadata": {},
   "source": [
    "### Testowanie systemu na zbiorze testowym CAPTCHA"
   ]
  },
  {
   "cell_type": "code",
   "execution_count": 232,
   "metadata": {},
   "outputs": [
    {
     "data": {
      "image/png": "[encoded data removed]",
      "text/plain": [
       "<matplotlib.figure.Figure at 0x7f0128f81790>"
      ]
     },
     "metadata": {},
     "output_type": "display_data"
    },
    {
     "data": {
      "image/png": "[encoded data removed]",
      "text/plain": [
       "<matplotlib.figure.Figure at 0x7f01240a3650>"
      ]
     },
     "metadata": {},
     "output_type": "display_data"
    }
   ],
   "source": [
    "show_sample_captcha_solve(workspace, model, splitter, input_shape, encoder)"
   ]
  },
  {
   "cell_type": "code",
   "execution_count": 233,
   "metadata": {},
   "outputs": [
    {
     "data": {
      "application/vnd.jupyter.widget-view+json": {
       "model_id": "20d78b0e2a8e401a851858cf0c6390e7"
      }
     },
     "metadata": {},
     "output_type": "display_data"
    },
    {
     "name": "stdout",
     "output_type": "stream",
     "text": [
      "Test CAPTCHA dataset accuracy: 66.7333333333%\n",
      "Test CAPTCHA dataset with good split accuracy: 89.2952720785%\n"
     ]
    }
   ],
   "source": [
    "acc, acc_len = validate_captcha_system(workspace, model, splitter, input_shape, encoder)\n",
    "\n",
    "print 'Test CAPTCHA dataset accuracy: {}%'.format(acc)\n",
    "print 'Test CAPTCHA dataset with good split accuracy: {}%'.format(acc_len)"
   ]
  },
  {
   "cell_type": "code",
   "execution_count": null,
   "metadata": {
    "collapsed": true
   },
   "outputs": [],
   "source": []
  }
 ],
 "metadata": {
  "kernelspec": {
   "display_name": "Python 2",
   "language": "python",
   "name": "python2"
  },
  "language_info": {
   "codemirror_mode": {
    "name": "ipython",
    "version": 2
   },
   "file_extension": ".py",
   "mimetype": "text/x-python",
   "name": "python",
   "nbconvert_exporter": "python",
   "pygments_lexer": "ipython2",
   "version": "2.7.13"
  }
 },
 "nbformat": 4,
 "nbformat_minor": 2
}
