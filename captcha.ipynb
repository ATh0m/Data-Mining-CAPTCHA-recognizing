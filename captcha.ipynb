{
 "cells": [
  {
   "cell_type": "code",
   "execution_count": 1,
   "metadata": {},
   "outputs": [
    {
     "name": "stdout",
     "output_type": "stream",
     "text": [
      "Populating the interactive namespace from numpy and matplotlib\n"
     ]
    }
   ],
   "source": [
    "%pylab inline\n",
    "\n",
    "import os\n",
    "from src.CAPTCHA_to_signs import DFS"
   ]
  },
  {
   "cell_type": "markdown",
   "metadata": {},
   "source": [
    "## Preprocess\n",
    "\n",
    "W tym miejscu chcemy podzielić surowe CAPTCHA ze znanymi etykietami na poszczególne znaki z również znanymi etykietami. Powstały zbiór wykorzystamy do nauki modelu"
   ]
  },
  {
   "cell_type": "code",
   "execution_count": 2,
   "metadata": {},
   "outputs": [],
   "source": [
    "root_path = os.getcwd()\n",
    "img_dir_path = os.path.join(root_path, 'data', 'raw')\n",
    "invalid_img_dir_path = os.path.join(root_path, 'data', 'invalid')\n",
    "signs_output_dir_path = os.path.join(root_path, 'data', 'signs')"
   ]
  },
  {
   "cell_type": "code",
   "execution_count": 3,
   "metadata": {},
   "outputs": [],
   "source": [
    "for sign in '23456789ABCDEFGHJKLMNPQRSTUVWXYZ':\n",
    "    sign_dir_path = os.path.join(signs_output_dir_path, sign)\n",
    "    \n",
    "    if not os.path.exists(sign_dir_path):\n",
    "        os.makedirs(sign_dir_path)"
   ]
  },
  {
   "cell_type": "code",
   "execution_count": 4,
   "metadata": {},
   "outputs": [],
   "source": [
    "from collections import Counter\n",
    "\n",
    "counter = Counter()\n",
    "\n",
    "for img_filename in os.listdir(img_dir_path):\n",
    "    img_path = os.path.join(img_dir_path, img_filename)\n",
    "    \n",
    "    label = img_filename.split('.')[0].upper()\n",
    "    signs = DFS(img_path).dfs_all()\n",
    "    \n",
    "    # Przenieś niepoprawne obrazki do folderu invalid\n",
    "    if len(label) != len(signs):\n",
    "        invalid_img_path = os.path.join(invalid_img_dir_path, img_filename)\n",
    "        os.rename(img_path, invalid_img_path)\n",
    "        continue\n",
    "        \n",
    "    for sign, target in zip(signs, label):\n",
    "        counter[target] += 1\n",
    "        \n",
    "        sign_path = os.path.join(signs_output_dir_path, target, str(counter[target]))\n",
    "        sign.save(sign_path)"
   ]
  },
  {
   "cell_type": "markdown",
   "metadata": {},
   "source": [
    "## Model"
   ]
  },
  {
   "cell_type": "code",
   "execution_count": 32,
   "metadata": {},
   "outputs": [],
   "source": [
    "import keras\n",
    "from keras.datasets import mnist\n",
    "from keras.preprocessing import image\n",
    "from keras.models import Sequential\n",
    "from keras.layers import Dense, Dropout, Flatten\n",
    "from keras.layers import Conv2D, MaxPooling2D\n",
    "from keras import backend as K\n",
    "\n",
    "from sklearn.model_selection import train_test_split\n",
    "from sklearn.preprocessing import LabelBinarizer"
   ]
  },
  {
   "cell_type": "code",
   "execution_count": 8,
   "metadata": {},
   "outputs": [],
   "source": [
    "signs_dir_path = os.path.join(root_path, 'data', 'signs')"
   ]
  },
  {
   "cell_type": "code",
   "execution_count": 18,
   "metadata": {},
   "outputs": [],
   "source": [
    "X, y = [], []\n",
    "\n",
    "for sign in '23456789ABCDEFGHJKLMNPQRSTUVWXYZ':\n",
    "    sign_dir_path = os.path.join(signs_dir_path, sign)\n",
    "    \n",
    "    for img_filename in os.listdir(sign_dir_path):\n",
    "        img_path = os.path.join(sign_dir_path, img_filename)\n",
    "        \n",
    "        img = image.load_img(img_path, grayscale=True)\n",
    "        img = image.img_to_array(img)\n",
    "        \n",
    "        X.append(img)\n",
    "        y.append(sign)\n",
    "        \n",
    "X, y = np.array(X), np.array(y)"
   ]
  },
  {
   "cell_type": "code",
   "execution_count": 26,
   "metadata": {},
   "outputs": [],
   "source": [
    "X_train, X_test, y_train, y_test = train_test_split(X, y, test_size=0.20, random_state=42)"
   ]
  },
  {
   "cell_type": "code",
   "execution_count": 27,
   "metadata": {},
   "outputs": [],
   "source": [
    "batch_size = 128\n",
    "num_classes = len('23456789ABCDEFGHJKLMNPQRSTUVWXYZ')\n",
    "epochs = 15"
   ]
  },
  {
   "cell_type": "code",
   "execution_count": 36,
   "metadata": {},
   "outputs": [],
   "source": [
    "img_rows, img_cols = 16, 16\n",
    "input_shape = (img_rows, img_cols, 1)\n",
    "\n",
    "X_train = X_train.astype('float32')\n",
    "X_test = X_test.astype('float32')"
   ]
  },
  {
   "cell_type": "code",
   "execution_count": 30,
   "metadata": {},
   "outputs": [
    {
     "name": "stdout",
     "output_type": "stream",
     "text": [
      "('X_train shape:', (26729, 16, 16, 1))\n",
      "(26729, 'train samples')\n",
      "(6683, 'test samples')\n"
     ]
    }
   ],
   "source": [
    "print('X_train shape:', X_train.shape)\n",
    "print(X_train.shape[0], 'train samples')\n",
    "print(X_test.shape[0], 'test samples')"
   ]
  },
  {
   "cell_type": "code",
   "execution_count": 33,
   "metadata": {},
   "outputs": [],
   "source": [
    "encoder = LabelBinarizer()\n",
    "y_train = encoder.fit_transform(y_train)\n",
    "y_test = encoder.fit_transform(y_test)"
   ]
  },
  {
   "cell_type": "code",
   "execution_count": 37,
   "metadata": {},
   "outputs": [],
   "source": [
    "model = Sequential()\n",
    "model.add(Conv2D(32, kernel_size=(3, 3),\n",
    "                 activation='relu',\n",
    "                 input_shape=input_shape))\n",
    "model.add(Conv2D(64, (3, 3), activation='relu'))\n",
    "model.add(MaxPooling2D(pool_size=(2, 2)))\n",
    "model.add(Dropout(0.25))\n",
    "model.add(Flatten())\n",
    "model.add(Dense(128, activation='relu'))\n",
    "model.add(Dropout(0.5))\n",
    "model.add(Dense(num_classes, activation='softmax'))"
   ]
  },
  {
   "cell_type": "code",
   "execution_count": 38,
   "metadata": {},
   "outputs": [],
   "source": [
    "model.compile(loss=keras.losses.categorical_crossentropy,\n",
    "              optimizer=keras.optimizers.Adadelta(),\n",
    "              metrics=['accuracy'])"
   ]
  },
  {
   "cell_type": "code",
   "execution_count": 39,
   "metadata": {},
   "outputs": [
    {
     "name": "stdout",
     "output_type": "stream",
     "text": [
      "Train on 26729 samples, validate on 6683 samples\n",
      "Epoch 1/15\n",
      "26729/26729 [==============================] - 6s 233us/step - loss: 14.8476 - acc: 0.0699 - val_loss: 12.2347 - val_acc: 0.2256\n",
      "Epoch 2/15\n",
      "26729/26729 [==============================] - 6s 222us/step - loss: 4.1426 - acc: 0.4319 - val_loss: 0.1386 - val_acc: 0.9740\n",
      "Epoch 3/15\n",
      "26729/26729 [==============================] - 6s 222us/step - loss: 0.4845 - acc: 0.8498 - val_loss: 0.0060 - val_acc: 0.9991\n",
      "Epoch 4/15\n",
      "26729/26729 [==============================] - 6s 226us/step - loss: 0.2030 - acc: 0.9348 - val_loss: 7.9704e-04 - val_acc: 0.9997\n",
      "Epoch 5/15\n",
      "26729/26729 [==============================] - 6s 223us/step - loss: 0.1177 - acc: 0.9608 - val_loss: 9.5842e-05 - val_acc: 1.0000\n",
      "Epoch 6/15\n",
      "26729/26729 [==============================] - 6s 222us/step - loss: 0.0834 - acc: 0.9729 - val_loss: 3.2829e-05 - val_acc: 1.0000\n",
      "Epoch 7/15\n",
      "26729/26729 [==============================] - 6s 227us/step - loss: 0.0661 - acc: 0.9779 - val_loss: 1.2077e-05 - val_acc: 1.0000\n",
      "Epoch 8/15\n",
      "26729/26729 [==============================] - 6s 224us/step - loss: 0.0537 - acc: 0.9823 - val_loss: 4.4304e-06 - val_acc: 1.0000\n",
      "Epoch 9/15\n",
      "26729/26729 [==============================] - 6s 229us/step - loss: 0.0380 - acc: 0.9880 - val_loss: 5.7470e-06 - val_acc: 1.0000\n",
      "Epoch 10/15\n",
      "26729/26729 [==============================] - 6s 226us/step - loss: 0.0351 - acc: 0.9893 - val_loss: 2.3693e-06 - val_acc: 1.0000\n",
      "Epoch 11/15\n",
      "26729/26729 [==============================] - 6s 226us/step - loss: 0.0286 - acc: 0.9910 - val_loss: 1.5329e-06 - val_acc: 1.0000\n",
      "Epoch 12/15\n",
      "26729/26729 [==============================] - 6s 227us/step - loss: 0.0246 - acc: 0.9927 - val_loss: 3.5797e-07 - val_acc: 1.0000\n",
      "Epoch 13/15\n",
      "26729/26729 [==============================] - 6s 229us/step - loss: 0.0189 - acc: 0.9939 - val_loss: 2.2675e-07 - val_acc: 1.0000\n",
      "Epoch 14/15\n",
      "26729/26729 [==============================] - 6s 228us/step - loss: 0.0224 - acc: 0.9930 - val_loss: 2.6525e-07 - val_acc: 1.0000\n",
      "Epoch 15/15\n",
      "26729/26729 [==============================] - 6s 228us/step - loss: 0.0176 - acc: 0.9943 - val_loss: 1.6635e-07 - val_acc: 1.0000\n"
     ]
    },
    {
     "data": {
      "text/plain": [
       "<keras.callbacks.History at 0x7f762df42f90>"
      ]
     },
     "execution_count": 39,
     "metadata": {},
     "output_type": "execute_result"
    }
   ],
   "source": [
    "model.fit(X_train, y_train,\n",
    "          batch_size=batch_size,\n",
    "          epochs=epochs,\n",
    "          verbose=1,\n",
    "          validation_data=(X_test, y_test))"
   ]
  },
  {
   "cell_type": "code",
   "execution_count": 41,
   "metadata": {},
   "outputs": [
    {
     "name": "stdout",
     "output_type": "stream",
     "text": [
      "('Test loss:', 1.6634578938223013e-07)\n",
      "('Test accuracy:', 1.0)\n"
     ]
    }
   ],
   "source": [
    "score = model.evaluate(X_test, y_test, verbose=0)\n",
    "print('Test loss:', score[0])\n",
    "print('Test accuracy:', score[1])"
   ]
  },
  {
   "cell_type": "markdown",
   "metadata": {},
   "source": [
    "## Predict"
   ]
  },
  {
   "cell_type": "code",
   "execution_count": 69,
   "metadata": {},
   "outputs": [],
   "source": [
    "correct = 0\n",
    "\n",
    "for img_filename in os.listdir(img_dir_path):\n",
    "    img_path = os.path.join(img_dir_path, img_filename)\n",
    "    \n",
    "    label = img_filename.split('.')[0].upper()\n",
    "    signs = DFS(img_path).dfs_all()\n",
    "    \n",
    "    signs = np.array([s.bitmap * 255 for s in signs]).reshape(-1, 16, 16, 1)\n",
    "    predict = model.predict_classes(signs)\n",
    "    \n",
    "    if label == ''.join(encoder.classes_[predict]):\n",
    "        correct += 1"
   ]
  },
  {
   "cell_type": "code",
   "execution_count": 72,
   "metadata": {},
   "outputs": [
    {
     "data": {
      "text/plain": [
       "1.0"
      ]
     },
     "execution_count": 72,
     "metadata": {},
     "output_type": "execute_result"
    }
   ],
   "source": [
    "float(correct) / len(os.listdir(img_dir_path))"
   ]
  },
  {
   "cell_type": "code",
   "execution_count": null,
   "metadata": {},
   "outputs": [],
   "source": []
  }
 ],
 "metadata": {
  "kernelspec": {
   "display_name": "Python 2",
   "language": "python",
   "name": "python2"
  },
  "language_info": {
   "codemirror_mode": {
    "name": "ipython",
    "version": 2
   },
   "file_extension": ".py",
   "mimetype": "text/x-python",
   "name": "python",
   "nbconvert_exporter": "python",
   "pygments_lexer": "ipython2",
   "version": "2.7.14"
  }
 },
 "nbformat": 4,
 "nbformat_minor": 2
}
