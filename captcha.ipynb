{
 "cells": [
  {
   "cell_type": "code",
   "execution_count": 17,
   "metadata": {},
   "outputs": [
    {
     "name": "stdout",
     "output_type": "stream",
     "text": [
      "Populating the interactive namespace from numpy and matplotlib\n"
     ]
    }
   ],
   "source": [
    "%pylab inline\n",
    "\n",
    "from __future__ import print_function\n",
    "\n",
    "import os\n",
    "import random\n",
    "from src.CAPTCHA_to_signs import DFS"
   ]
  },
  {
   "cell_type": "markdown",
   "metadata": {},
   "source": [
    "## Preprocess\n",
    "\n",
    "W tym miejscu chcemy podzielić surowe CAPTCHA ze znanymi etykietami na poszczególne znaki z również znanymi etykietami. Powstały zbiór wykorzystamy do nauki modelu"
   ]
  },
  {
   "cell_type": "code",
   "execution_count": 3,
   "metadata": {
    "collapsed": true
   },
   "outputs": [],
   "source": [
    "root_path = os.getcwd()\n",
    "\n",
    "img_dir_path = os.path.join(root_path, 'data', 'raw')\n",
    "invalid_img_dir_path = os.path.join(root_path, 'data', 'invalid')\n",
    "train_img_dir_path = os.path.join(root_path, 'data', 'train')\n",
    "test_img_dir_path = os.path.join(root_path, 'data', 'test') \n",
    "\n",
    "signs_output_dir_path = os.path.join(root_path, 'data', 'signs')"
   ]
  },
  {
   "cell_type": "markdown",
   "metadata": {},
   "source": [
    "Obrazki, które można dobrze podzielić przenosimy do folderu **train**, a pozostałe do **invalid**"
   ]
  },
  {
   "cell_type": "code",
   "execution_count": 6,
   "metadata": {
    "collapsed": true
   },
   "outputs": [],
   "source": [
    "for img_filename in os.listdir(img_dir_path):\n",
    "    img_path = os.path.join(img_dir_path, img_filename)\n",
    "    \n",
    "    label = img_filename.split('.')[0].upper()\n",
    "    signs = DFS(img_path).dfs_all()\n",
    "    \n",
    "    # Przenieś niepoprawne obrazki do folderu invalid\n",
    "    if len(label) != len(signs):\n",
    "        invalid_img_path = os.path.join(invalid_img_dir_path, img_filename)\n",
    "        os.rename(img_path, invalid_img_path)\n",
    "        continue\n",
    "        \n",
    "    # Poprawne przenieś do train\n",
    "    train_img_path = os.path.join(train_img_dir_path, img_filename)\n",
    "    os.rename(img_path, train_img_path)"
   ]
  },
  {
   "cell_type": "code",
   "execution_count": 14,
   "metadata": {},
   "outputs": [
    {
     "data": {
      "image/png": "[encoded data removed]",
      "text/plain": [
       "<matplotlib.figure.Figure at 0x7f269218fe90>"
      ]
     },
     "metadata": {},
     "output_type": "display_data"
    }
   ],
   "source": [
    "img_filenames = random.sample(os.listdir(train_img_dir_path), 12)\n",
    "fig, axes = plt.subplots(ncols=4, nrows=3, figsize=(15, 5))\n",
    "\n",
    "for img_filename, ax in zip(img_filenames, axes.flatten()):\n",
    "    img_path = os.path.join(train_img_dir_path, img_filename)\n",
    "    img = imread(img_path)\n",
    "    ax.imshow(img)"
   ]
  },
  {
   "cell_type": "markdown",
   "metadata": {},
   "source": [
    "Część obrazków z **train** przenosimy do **test**"
   ]
  },
  {
   "cell_type": "code",
   "execution_count": 13,
   "metadata": {
    "collapsed": true
   },
   "outputs": [],
   "source": [
    "# Przenieś część do test\n",
    "for img_filename in random.sample(os.listdir(train_img_dir_path), 1500):\n",
    "    img_path = os.path.join(train_img_dir_path, img_filename)\n",
    "    \n",
    "    test_img_path = os.path.join(test_img_dir_path, img_filename)\n",
    "    os.rename(img_path, test_img_path)    "
   ]
  },
  {
   "cell_type": "markdown",
   "metadata": {},
   "source": [
    "Tworzymy foldery dla wszystkich z mozliwych znaków"
   ]
  },
  {
   "cell_type": "code",
   "execution_count": 14,
   "metadata": {
    "collapsed": true
   },
   "outputs": [],
   "source": [
    "for sign in '23456789ABCDEFGHJKLMNPQRSTUVWXYZ':\n",
    "    sign_dir_path = os.path.join(signs_output_dir_path, sign)\n",
    "    \n",
    "    if not os.path.exists(sign_dir_path):\n",
    "        os.makedirs(sign_dir_path)"
   ]
  },
  {
   "cell_type": "markdown",
   "metadata": {},
   "source": [
    "Z obrazków ze zbioru trenującego wydzielamy znaki i zapisujemy je w odpowiednim katalogu"
   ]
  },
  {
   "cell_type": "code",
   "execution_count": 16,
   "metadata": {
    "collapsed": true
   },
   "outputs": [],
   "source": [
    "from collections import Counter\n",
    "\n",
    "counter = Counter()\n",
    "\n",
    "for img_filename in os.listdir(train_img_dir_path):\n",
    "    img_path = os.path.join(train_img_dir_path, img_filename)\n",
    "    \n",
    "    label = img_filename.split('.')[0].upper()\n",
    "    signs = DFS(img_path).dfs_all()\n",
    "        \n",
    "    for sign, target in zip(signs, label):\n",
    "        counter[target] += 1\n",
    "        \n",
    "        sign_path = os.path.join(signs_output_dir_path, target, str(counter[target]))\n",
    "        sign.save(sign_path)"
   ]
  },
  {
   "cell_type": "code",
   "execution_count": 20,
   "metadata": {},
   "outputs": [
    {
     "data": {
      "image/png": "[encoded data removed]",
      "text/plain": [
       "<matplotlib.figure.Figure at 0x7f2691f4be90>"
      ]
     },
     "metadata": {},
     "output_type": "display_data"
    }
   ],
   "source": [
    "d_sign_dir_path = os.path.join(signs_output_dir_path, 'D')\n",
    "\n",
    "img_filenames = random.sample(os.listdir(d_sign_dir_path), 15)\n",
    "fig, axes = plt.subplots(ncols=5, nrows=3, figsize=(15, 5))\n",
    "\n",
    "for img_filename, ax in zip(img_filenames, axes.flatten()):\n",
    "    img_path = os.path.join(d_sign_dir_path, img_filename)\n",
    "    img = imread(img_path)\n",
    "    ax.imshow(img, cmap='gray')"
   ]
  },
  {
   "cell_type": "markdown",
   "metadata": {},
   "source": [
    "## Model\n",
    "\n",
    "Implementacja sieci neuronowej o podstawie dla zbioru MNIST"
   ]
  },
  {
   "cell_type": "code",
   "execution_count": 20,
   "metadata": {
    "collapsed": true
   },
   "outputs": [],
   "source": [
    "import keras\n",
    "\n",
    "from keras.preprocessing import image\n",
    "from keras.models import Sequential\n",
    "from keras.layers import Dense, Dropout, Flatten\n",
    "from keras.layers import Conv2D, MaxPooling2D\n",
    "from keras import backend as K\n",
    "from keras.callbacks import CSVLogger, ModelCheckpoint\n",
    "\n",
    "from sklearn.model_selection import train_test_split\n",
    "from sklearn.preprocessing import LabelBinarizer"
   ]
  },
  {
   "cell_type": "code",
   "execution_count": 6,
   "metadata": {
    "collapsed": true
   },
   "outputs": [],
   "source": [
    "signs_dir_path = os.path.join(root_path, 'data', 'signs')"
   ]
  },
  {
   "cell_type": "code",
   "execution_count": 7,
   "metadata": {
    "collapsed": true
   },
   "outputs": [],
   "source": [
    "X, y = [], []\n",
    "\n",
    "for sign in '23456789ABCDEFGHJKLMNPQRSTUVWXYZ':\n",
    "    sign_dir_path = os.path.join(signs_dir_path, sign)\n",
    "    \n",
    "    for img_filename in os.listdir(sign_dir_path):\n",
    "        img_path = os.path.join(sign_dir_path, img_filename)\n",
    "        \n",
    "        img = image.load_img(img_path, grayscale=True)\n",
    "        img = image.img_to_array(img)\n",
    "        \n",
    "        X.append(img)\n",
    "        y.append(sign)\n",
    "        \n",
    "X, y = np.array(X), np.array(y)"
   ]
  },
  {
   "cell_type": "code",
   "execution_count": 8,
   "metadata": {
    "collapsed": true
   },
   "outputs": [],
   "source": [
    "X_train, X_test, y_train, y_test = train_test_split(X, y, test_size=0.20, random_state=42)"
   ]
  },
  {
   "cell_type": "code",
   "execution_count": 37,
   "metadata": {
    "collapsed": true
   },
   "outputs": [],
   "source": [
    "batch_size = 128\n",
    "num_classes = len('23456789ABCDEFGHJKLMNPQRSTUVWXYZ')\n",
    "epochs = 10"
   ]
  },
  {
   "cell_type": "code",
   "execution_count": 10,
   "metadata": {
    "collapsed": true
   },
   "outputs": [],
   "source": [
    "img_rows, img_cols = 16, 16\n",
    "input_shape = (img_rows, img_cols, 1)\n",
    "\n",
    "X_train = X_train.astype('float32')\n",
    "X_test = X_test.astype('float32')\n",
    "\n",
    "X_train /= 255.\n",
    "X_test /= 255."
   ]
  },
  {
   "cell_type": "code",
   "execution_count": 15,
   "metadata": {},
   "outputs": [
    {
     "name": "stdout",
     "output_type": "stream",
     "text": [
      "X_train shape: (21929, 16, 16, 1)\n",
      "21929 train samples\n",
      "5483 test samples\n"
     ]
    }
   ],
   "source": [
    "print('X_train shape:', X_train.shape)\n",
    "print(X_train.shape[0], 'train samples')\n",
    "print(X_test.shape[0], 'test samples')"
   ]
  },
  {
   "cell_type": "code",
   "execution_count": 16,
   "metadata": {
    "collapsed": true
   },
   "outputs": [],
   "source": [
    "encoder = LabelBinarizer()\n",
    "y_train = encoder.fit_transform(y_train)\n",
    "y_test = encoder.fit_transform(y_test)"
   ]
  },
  {
   "cell_type": "code",
   "execution_count": 18,
   "metadata": {},
   "outputs": [
    {
     "name": "stdout",
     "output_type": "stream",
     "text": [
      "_________________________________________________________________\n",
      "Layer (type)                 Output Shape              Param #   \n",
      "=================================================================\n",
      "conv2d_3 (Conv2D)            (None, 14, 14, 32)        320       \n",
      "_________________________________________________________________\n",
      "conv2d_4 (Conv2D)            (None, 12, 12, 64)        18496     \n",
      "_________________________________________________________________\n",
      "max_pooling2d_2 (MaxPooling2 (None, 6, 6, 64)          0         \n",
      "_________________________________________________________________\n",
      "dropout_3 (Dropout)          (None, 6, 6, 64)          0         \n",
      "_________________________________________________________________\n",
      "flatten_2 (Flatten)          (None, 2304)              0         \n",
      "_________________________________________________________________\n",
      "dense_3 (Dense)              (None, 128)               295040    \n",
      "_________________________________________________________________\n",
      "dropout_4 (Dropout)          (None, 128)               0         \n",
      "_________________________________________________________________\n",
      "dense_4 (Dense)              (None, 32)                4128      \n",
      "=================================================================\n",
      "Total params: 317,984\n",
      "Trainable params: 317,984\n",
      "Non-trainable params: 0\n",
      "_________________________________________________________________\n"
     ]
    }
   ],
   "source": [
    "model = Sequential()\n",
    "model.add(Conv2D(32, kernel_size=(3, 3), activation='relu', input_shape=input_shape))\n",
    "model.add(Conv2D(64, (3, 3), activation='relu'))\n",
    "model.add(MaxPooling2D(pool_size=(2, 2)))\n",
    "model.add(Dropout(0.25))\n",
    "model.add(Flatten())\n",
    "model.add(Dense(128, activation='relu'))\n",
    "model.add(Dropout(0.5))\n",
    "model.add(Dense(num_classes, activation='softmax'))\n",
    "\n",
    "model.summary()"
   ]
  },
  {
   "cell_type": "code",
   "execution_count": 19,
   "metadata": {
    "collapsed": true
   },
   "outputs": [],
   "source": [
    "model.compile(loss=keras.losses.categorical_crossentropy,\n",
    "              optimizer=keras.optimizers.Adadelta(),\n",
    "              metrics=['accuracy'])"
   ]
  },
  {
   "cell_type": "code",
   "execution_count": 36,
   "metadata": {
    "collapsed": true
   },
   "outputs": [],
   "source": [
    "model_path = os.path.join(root_path, 'model')\n",
    "log_path = os.path.join(model_path, 'log')\n",
    "\n",
    "cur_model = 'simple-model-v1'\n",
    "csv_logger = CSVLogger(os.path.join(log_path, cur_model + '.log'))\n",
    "\n",
    "model_file_name= os.path.join(model_path, cur_model + '-{epoch:03d}-{acc:.5f}.h5')\n",
    "checkpoint = ModelCheckpoint(model_file_name, verbose=0, save_best_only=True)"
   ]
  },
  {
   "cell_type": "code",
   "execution_count": 38,
   "metadata": {},
   "outputs": [
    {
     "name": "stdout",
     "output_type": "stream",
     "text": [
      "Train on 21929 samples, validate on 5483 samples\n",
      "Epoch 1/10\n",
      "21929/21929 [==============================] - 3s - loss: 0.0028 - acc: 0.9990 - val_loss: 2.5450e-07 - val_acc: 1.0000\n",
      "Epoch 2/10\n",
      "21929/21929 [==============================] - 3s - loss: 0.0025 - acc: 0.9992 - val_loss: 2.5087e-07 - val_acc: 1.0000\n",
      "Epoch 3/10\n",
      "21929/21929 [==============================] - 3s - loss: 0.0026 - acc: 0.9992 - val_loss: 2.6676e-07 - val_acc: 1.0000\n",
      "Epoch 4/10\n",
      "21929/21929 [==============================] - 3s - loss: 0.0026 - acc: 0.9991 - val_loss: 2.3437e-07 - val_acc: 1.0000\n",
      "Epoch 5/10\n",
      "21929/21929 [==============================] - 3s - loss: 0.0020 - acc: 0.9994 - val_loss: 1.9748e-07 - val_acc: 1.0000\n",
      "Epoch 6/10\n",
      "21929/21929 [==============================] - 3s - loss: 0.0019 - acc: 0.9994 - val_loss: 2.1631e-07 - val_acc: 1.0000\n",
      "Epoch 7/10\n",
      "21929/21929 [==============================] - 3s - loss: 0.0018 - acc: 0.9995 - val_loss: 2.1958e-07 - val_acc: 1.0000\n",
      "Epoch 8/10\n",
      "21929/21929 [==============================] - 3s - loss: 0.0018 - acc: 0.9995 - val_loss: 1.6189e-07 - val_acc: 1.0000\n",
      "Epoch 9/10\n",
      "21929/21929 [==============================] - 3s - loss: 0.0022 - acc: 0.9991 - val_loss: 1.8054e-07 - val_acc: 1.0000\n",
      "Epoch 10/10\n",
      "21929/21929 [==============================] - 3s - loss: 0.0019 - acc: 0.9992 - val_loss: 3.2731e-07 - val_acc: 1.0000\n"
     ]
    },
    {
     "data": {
      "text/plain": [
       "<keras.callbacks.History at 0x7fe47e32fb90>"
      ]
     },
     "execution_count": 38,
     "metadata": {},
     "output_type": "execute_result"
    }
   ],
   "source": [
    "model.fit(X_train, y_train,\n",
    "          batch_size=batch_size,\n",
    "          epochs=epochs,\n",
    "          verbose=1,\n",
    "          validation_data=(X_test, y_test),\n",
    "          callbacks=[csv_logger, checkpoint])"
   ]
  },
  {
   "cell_type": "code",
   "execution_count": 39,
   "metadata": {},
   "outputs": [
    {
     "name": "stdout",
     "output_type": "stream",
     "text": [
      "Test loss: 3.27305875907e-07\n",
      "Test accuracy: 1.0\n"
     ]
    }
   ],
   "source": [
    "score = model.evaluate(X_test, y_test, verbose=0)\n",
    "print('Test loss:', score[0])\n",
    "print('Test accuracy:', score[1])"
   ]
  },
  {
   "cell_type": "markdown",
   "metadata": {},
   "source": [
    "## Predict\n",
    "\n",
    "Przetestowanie modelu na danych testowych"
   ]
  },
  {
   "cell_type": "code",
   "execution_count": 40,
   "metadata": {
    "collapsed": true
   },
   "outputs": [],
   "source": [
    "correct = 0\n",
    "\n",
    "for img_filename in os.listdir(test_img_dir_path):\n",
    "    img_path = os.path.join(test_img_dir_path, img_filename)\n",
    "    \n",
    "    label = img_filename.split('.')[0].upper()\n",
    "    signs = DFS(img_path).dfs_all()\n",
    "    \n",
    "    signs = np.array([s.bitmap for s in signs]).reshape(-1, 16, 16, 1)\n",
    "    predict = model.predict_classes(signs, verbose=0)\n",
    "    \n",
    "    if label == ''.join(encoder.classes_[predict]):\n",
    "        correct += 1"
   ]
  },
  {
   "cell_type": "code",
   "execution_count": 41,
   "metadata": {},
   "outputs": [
    {
     "name": "stdout",
     "output_type": "stream",
     "text": [
      "Test CAPTCHA dataset accuracy: 100.0%\n"
     ]
    }
   ],
   "source": [
    "acc = correct * 100. / len(os.listdir(test_img_dir_path))\n",
    "print(\"Test CAPTCHA dataset accuracy: {}%\".format(acc))"
   ]
  },
  {
   "cell_type": "code",
   "execution_count": 54,
   "metadata": {},
   "outputs": [
    {
     "data": {
      "image/png": "[encoded data removed]",
      "text/plain": [
       "<matplotlib.figure.Figure at 0x7fe46c7d8b10>"
      ]
     },
     "metadata": {},
     "output_type": "display_data"
    }
   ],
   "source": [
    "sample_img_filename = random.choice(os.listdir(test_img_dir_path))\n",
    "sample_img_path = os.path.join(test_img_dir_path, sample_img_filename)\n",
    "\n",
    "sample_img = imread(sample_img_path)\n",
    "imshow(sample_img);"
   ]
  },
  {
   "cell_type": "code",
   "execution_count": 69,
   "metadata": {},
   "outputs": [
    {
     "name": "stdout",
     "output_type": "stream",
     "text": [
      "Y N 9 N\n"
     ]
    },
    {
     "data": {
      "image/png": "[encoded data removed]",
      "text/plain": [
       "<matplotlib.figure.Figure at 0x7fe46c016890>"
      ]
     },
     "metadata": {},
     "output_type": "display_data"
    }
   ],
   "source": [
    "sample_signs = DFS(sample_img_path).dfs_all()\n",
    "\n",
    "fig, axes = plt.subplots(ncols=len(sample_signs))\n",
    "for sign, ax in zip(sample_signs, axes):\n",
    "    ax.imshow(sign.bitmap, cmap='gray')\n",
    "    \n",
    "sample_signs_bitmap = np.array([s.bitmap for s in sample_signs]).reshape(-1, 16, 16, 1)\n",
    "predict = model.predict_classes(sample_signs_bitmap, verbose=0)\n",
    "print(' '.join(encoder.classes_[predict]))"
   ]
  },
  {
   "cell_type": "code",
   "execution_count": null,
   "metadata": {
    "collapsed": true
   },
   "outputs": [],
   "source": []
  }
 ],
 "metadata": {
  "kernelspec": {
   "display_name": "Python 2",
   "language": "python",
   "name": "python2"
  },
  "language_info": {
   "codemirror_mode": {
    "name": "ipython",
    "version": 2
   },
   "file_extension": ".py",
   "mimetype": "text/x-python",
   "name": "python",
   "nbconvert_exporter": "python",
   "pygments_lexer": "ipython2",
   "version": "2.7.13"
  }
 },
 "nbformat": 4,
 "nbformat_minor": 2
}
